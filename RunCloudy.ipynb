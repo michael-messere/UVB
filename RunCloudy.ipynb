{
 "cells": [
  {
   "cell_type": "markdown",
   "metadata": {},
   "source": [
    "# Cloudy Modeling of PDR and Dark Regions in Various Limiting Cases\n",
    "## PS2 - Problem 3 - 3/4/24"
   ]
  },
  {
   "cell_type": "markdown",
   "metadata": {},
   "source": [
    "This notebook contains code to plot models of a photodissociation and dark region, as calculated by models hw2_pdr.in and variants. \n",
    "\n",
    "We will model an initial ‘fiducial’ PDR and then also explore how the structure of the PDR changes as we vary several key parameters (density, abundance, CR ionization rate).  \n",
    "\n",
    "You already have experience varying the density in a cloudy input file.  To vary abundances we'd like to assume a constant dust-to-metals ratio, so we vary them together by setting the \"metals and grains\" command. (Note you should leave the grains PAH 3.0 as is.)  Similarly we vary the cosmic ray level by setting an appropriate fractional level.\n",
    "\n",
    "Make models for \n",
    "\n",
    "* Density: log n = 4, 2, 6\n",
    "* Metals/grains, make models for 1.0, 0.1 and 3.0 metallicity/grains\n",
    "* CR, make models for 1.0, 0.001 and 1000.0   times the background Cosmic Ray density\n",
    "\n",
    "The first of each of these is the 'fiducial' PDR. You don't need to do a full 3-d exploration of all parameters, you can explore each quantity (density, metals/grains and CR) along 1-d\n",
    "\n",
    "Note that in all cases the PDR is set to be illuminated by a stellar blackbody with 43,600 K, log Q 49.3, but we pass the star's light through 1e23 cm2 of hydrogen to effectively extinguish H-ionizing photons.  So we are only modeling the non-ionizing PDR and dark cloud region.\n",
    "\n",
    "As the light penetrates deeper into the region, it is attenuated by dust, and we follow the model until the attenuation reaches Av=10.  In some cases the model might stop before then (e.g. low metallicity).\n",
    "\n",
    "Answer the following questions:\n",
    "\n",
    "* For the fiducial PDR/dark region – how do species ionization and fractions and **molecular compositions** vary with Av?  In each region (low Av, high Av) which processes dominate the heating and cooling rates?\n",
    "\n",
    "* How does the PDR/dark region structure (species ionization and fractions, **molecular composition** and temperature) vary as we change the key parameters?   Why would these vary in the different limiting cases?\n",
    "\n",
    "Explain your results and make plots/figures useful for illustrating your points (see below). "
   ]
  },
  {
   "cell_type": "code",
   "execution_count": 1,
   "metadata": {},
   "outputs": [],
   "source": [
    "import numpy as np\n",
    "import matplotlib.pyplot as plt\n",
    "from astropy.table import QTable, Table, Column\n",
    "from astropy import units as u\n",
    "from astropy.io import ascii\n",
    "import pandas as pd\n",
    "\n",
    "%matplotlib inline\n",
    "\n",
    "params = {'mathtext.default': 'regular' }          \n",
    "plt.rcParams.update(params)\n",
    "\n",
    "import pyCloudy as pc\n",
    "pc.log_.level = 3"
   ]
  },
  {
   "cell_type": "markdown",
   "metadata": {},
   "source": [
    "## Run Model"
   ]
  },
  {
   "cell_type": "code",
   "execution_count": 8,
   "metadata": {},
   "outputs": [
    {
     "name": "stdout",
     "output_type": "stream",
     "text": [
      "     _Config: cloudy_exe set to /Users/messeremichael/Documents/Software/c23.01/source/cloudy.exe\n"
     ]
    }
   ],
   "source": [
    "pc.config.cloudy_exe = '/Users/messeremichael/Documents/Software/c23.01/source/cloudy.exe'"
   ]
  },
  {
   "cell_type": "code",
   "execution_count": 2,
   "metadata": {},
   "outputs": [
    {
     "name": "stdout",
     "output_type": "stream",
     "text": [
      "     _Config: cloudy_exe set to /Users/messeremichael/Documents/Software/c23.01/source/cloudy.exe\n",
      "     test1: Running test\n",
      "     run_cloudy: running:  /Users/messeremichael/Documents/Software/c23.01/source/cloudy.exe -p test\n",
      "     run_cloudy: ending:  /Users/messeremichael/Documents/Software/c23.01/source/cloudy.exe -p test\n",
      "   test1: Cloudy ended after seconds: in 388.30893087387085\n"
     ]
    }
   ],
   "source": [
    "# constant number density\n",
    "\n",
    "dir_ = 'runs/constant_density'\n",
    "model_name = 'test'  \n",
    "full_model_name = '{0}{1}'.format(dir_, model_name)\n",
    "\n",
    "c_input = pc.CloudyInput(full_model_name)\n",
    "\n",
    "#c_input.print_input(to_file = True, verbose = False)\n",
    "\n",
    "pc.log_.message('Running {0}'.format(model_name), calling = 'test1')\n",
    "pc.log_.timer('Starting Cloudy', quiet = True, calling = 'test1')\n",
    "\n",
    "c_input.run_cloudy()\n",
    "pc.log_.timer('Cloudy ended after seconds:', calling = 'test1')"
   ]
  },
  {
   "cell_type": "code",
   "execution_count": 15,
   "metadata": {},
   "outputs": [
    {
     "name": "stdout",
     "output_type": "stream",
     "text": [
      "     test1: Running test\n",
      "     run_cloudy: running:  /Users/messeremichael/Documents/Software/c23.01/source/cloudy.exe -p test\n",
      "     run_cloudy: ending:  /Users/messeremichael/Documents/Software/c23.01/source/cloudy.exe -p test\n",
      "   test1: Cloudy ended after seconds: in 780.0789630413055\n"
     ]
    }
   ],
   "source": [
    "# power law number density\n",
    "\n",
    "dir_ = 'runs/power_law_density_faraway/'\n",
    "model_name = 'test'  \n",
    "full_model_name = '{0}{1}'.format(dir_, model_name)\n",
    "\n",
    "c_input = pc.CloudyInput(full_model_name)\n",
    "\n",
    "pc.log_.message('Running {0}'.format(model_name), calling = 'test1')\n",
    "pc.log_.timer('Starting Cloudy', quiet = True, calling = 'test1')\n",
    "\n",
    "c_input.run_cloudy()\n",
    "pc.log_.timer('Cloudy ended after seconds:', calling = 'test1')"
   ]
  },
  {
   "cell_type": "code",
   "execution_count": 16,
   "metadata": {},
   "outputs": [],
   "source": [
    "import os\n",
    "import shutil"
   ]
  },
  {
   "cell_type": "code",
   "execution_count": 24,
   "metadata": {},
   "outputs": [],
   "source": [
    "alpha_value = [450.09986513107214,\n",
    " 441.8566878462761,\n",
    " 433.605065047318,\n",
    " 425.34460886516615,\n",
    " 417.0749058588441,\n",
    " 408.79551424254277,\n",
    " 400.5059624509475,\n",
    " 392.20574530215487,\n",
    " 383.89432069506756,\n",
    " 375.5711076250257,\n",
    " 367.23548051520424,\n",
    " 358.8867659103055,\n",
    " 350.52423461760907,\n",
    " 342.1471024191071,\n",
    " 333.75451663316295,\n",
    " 325.345552921832,\n",
    " 316.9191997950601,\n",
    " 308.4743646277641,\n",
    " 300.009844976095,\n",
    " 291.5243258812088,\n",
    " 283.0163495659604]"
   ]
  },
  {
   "cell_type": "code",
   "execution_count": 2,
   "metadata": {},
   "outputs": [
    {
     "data": {
      "text/plain": [
       "'/Users/messeremichael/Documents/GradSchool/ISM/Final Project'"
      ]
     },
     "execution_count": 2,
     "metadata": {},
     "output_type": "execute_result"
    }
   ],
   "source": [
    "pwd"
   ]
  },
  {
   "cell_type": "code",
   "execution_count": 29,
   "metadata": {},
   "outputs": [
    {
     "name": "stdout",
     "output_type": "stream",
     "text": [
      "Value '450' replaced with '450.09986513107214' in 'test.in' within the copied folder '../power_law_density_30kpc_disk_0'.\n",
      "Value '450' replaced with '441.8566878462761' in 'test.in' within the copied folder '../power_law_density_30kpc_disk_100'.\n",
      "Value '450' replaced with '433.605065047318' in 'test.in' within the copied folder '../power_law_density_30kpc_disk_200'.\n",
      "Value '450' replaced with '425.34460886516615' in 'test.in' within the copied folder '../power_law_density_30kpc_disk_300'.\n",
      "Value '450' replaced with '417.0749058588441' in 'test.in' within the copied folder '../power_law_density_30kpc_disk_400'.\n",
      "Value '450' replaced with '408.79551424254277' in 'test.in' within the copied folder '../power_law_density_30kpc_disk_500'.\n",
      "Value '450' replaced with '400.5059624509475' in 'test.in' within the copied folder '../power_law_density_30kpc_disk_600'.\n",
      "Value '450' replaced with '392.20574530215487' in 'test.in' within the copied folder '../power_law_density_30kpc_disk_700'.\n",
      "Value '450' replaced with '383.89432069506756' in 'test.in' within the copied folder '../power_law_density_30kpc_disk_800'.\n",
      "Value '450' replaced with '375.5711076250257' in 'test.in' within the copied folder '../power_law_density_30kpc_disk_900'.\n",
      "Value '450' replaced with '367.23548051520424' in 'test.in' within the copied folder '../power_law_density_30kpc_disk_1000'.\n",
      "Value '450' replaced with '358.8867659103055' in 'test.in' within the copied folder '../power_law_density_30kpc_disk_1100'.\n",
      "Value '450' replaced with '350.52423461760907' in 'test.in' within the copied folder '../power_law_density_30kpc_disk_1200'.\n",
      "Value '450' replaced with '342.1471024191071' in 'test.in' within the copied folder '../power_law_density_30kpc_disk_1300'.\n",
      "Value '450' replaced with '333.75451663316295' in 'test.in' within the copied folder '../power_law_density_30kpc_disk_1400'.\n",
      "Value '450' replaced with '325.345552921832' in 'test.in' within the copied folder '../power_law_density_30kpc_disk_1500'.\n",
      "Value '450' replaced with '316.9191997950601' in 'test.in' within the copied folder '../power_law_density_30kpc_disk_1600'.\n",
      "Value '450' replaced with '308.4743646277641' in 'test.in' within the copied folder '../power_law_density_30kpc_disk_1700'.\n",
      "Value '450' replaced with '300.009844976095' in 'test.in' within the copied folder '../power_law_density_30kpc_disk_1800'.\n",
      "Value '450' replaced with '291.5243258812088' in 'test.in' within the copied folder '../power_law_density_30kpc_disk_1900'.\n",
      "Value '450' replaced with '283.0163495659604' in 'test.in' within the copied folder '../power_law_density_30kpc_disk_2000'.\n"
     ]
    }
   ],
   "source": [
    "for i, zheight in enumerate(np.arange(0,2100,100)):\n",
    "    \n",
    "    # Specify the original folder path\n",
    "    original_folder_path = 'runs/power_law_density_30kpc_disk'  # Replace with the path to your folder containing the .in file\n",
    "\n",
    "    # Specify the name of the copied folder\n",
    "    copied_folder_name = '../power_law_density_30kpc_disk' + '_' + str(zheight)\n",
    "\n",
    "    # Specify the file name of the .in file within the folder\n",
    "    file_name = 'test.in'\n",
    "\n",
    "    # Construct the path to the .in file within the original folder\n",
    "    original_file_path = os.path.join(original_folder_path, file_name)\n",
    "\n",
    "    # Construct the path to the copied folder\n",
    "    copied_folder_path = os.path.join(original_folder_path, copied_folder_name)\n",
    "\n",
    "    # Create a copy of the entire folder\n",
    "    shutil.copytree(original_folder_path, copied_folder_path)\n",
    "\n",
    "    # Specify the value to be replaced\n",
    "    old_value = '450'\n",
    "    new_value = str(alpha_value[i])\n",
    "\n",
    "    # Construct the path to the .in file within the copied folder\n",
    "    copied_file_path = os.path.join(copied_folder_path, file_name)\n",
    "\n",
    "    # Open the .in file in read mode\n",
    "    with open(copied_file_path, 'r') as file:\n",
    "        content = file.read()\n",
    "\n",
    "    # Replace the old value with the new value\n",
    "    modified_content = content.replace(old_value, new_value)\n",
    "\n",
    "    # Open the .in file in write mode to save the modified content\n",
    "    with open(copied_file_path, 'w') as file:\n",
    "        file.write(modified_content)\n",
    "\n",
    "    print(f\"Value '{old_value}' replaced with '{new_value}' in '{file_name}' within the copied folder '{copied_folder_name}'.\")\n"
   ]
  },
  {
   "cell_type": "code",
   "execution_count": 32,
   "metadata": {
    "tags": []
   },
   "outputs": [
    {
     "name": "stdout",
     "output_type": "stream",
     "text": [
      "runs/power_law_density_30kpc_disk_0/test\n",
      "     test1: Running test\n",
      "     run_cloudy: running:  /Users/messeremichael/Documents/Software/c23.01/source/cloudy.exe -p test\n",
      "     run_cloudy: ending:  /Users/messeremichael/Documents/Software/c23.01/source/cloudy.exe -p test\n",
      "   test1: Cloudy ended after seconds: in 781.6861691474915\n",
      "runs/power_law_density_30kpc_disk_100/test\n",
      "     test1: Running test\n",
      "     run_cloudy: running:  /Users/messeremichael/Documents/Software/c23.01/source/cloudy.exe -p test\n",
      "     run_cloudy: ending:  /Users/messeremichael/Documents/Software/c23.01/source/cloudy.exe -p test\n",
      "   test1: Cloudy ended after seconds: in 763.5839791297913\n",
      "runs/power_law_density_30kpc_disk_200/test\n",
      "     test1: Running test\n",
      "     run_cloudy: running:  /Users/messeremichael/Documents/Software/c23.01/source/cloudy.exe -p test\n",
      "     run_cloudy: ending:  /Users/messeremichael/Documents/Software/c23.01/source/cloudy.exe -p test\n",
      "   test1: Cloudy ended after seconds: in 740.6778371334076\n",
      "runs/power_law_density_30kpc_disk_300/test\n",
      "     test1: Running test\n",
      "     run_cloudy: running:  /Users/messeremichael/Documents/Software/c23.01/source/cloudy.exe -p test\n",
      "     run_cloudy: ending:  /Users/messeremichael/Documents/Software/c23.01/source/cloudy.exe -p test\n",
      "   test1: Cloudy ended after seconds: in 726.6460540294647\n",
      "runs/power_law_density_30kpc_disk_400/test\n",
      "     test1: Running test\n",
      "     run_cloudy: running:  /Users/messeremichael/Documents/Software/c23.01/source/cloudy.exe -p test\n",
      "     run_cloudy: ending:  /Users/messeremichael/Documents/Software/c23.01/source/cloudy.exe -p test\n",
      "   test1: Cloudy ended after seconds: in 704.4656617641449\n",
      "runs/power_law_density_30kpc_disk_500/test\n",
      "     test1: Running test\n",
      "     run_cloudy: running:  /Users/messeremichael/Documents/Software/c23.01/source/cloudy.exe -p test\n",
      "     run_cloudy: ending:  /Users/messeremichael/Documents/Software/c23.01/source/cloudy.exe -p test\n",
      "   test1: Cloudy ended after seconds: in 688.8956060409546\n",
      "runs/power_law_density_30kpc_disk_600/test\n",
      "     test1: Running test\n",
      "     run_cloudy: running:  /Users/messeremichael/Documents/Software/c23.01/source/cloudy.exe -p test\n",
      "     run_cloudy: ending:  /Users/messeremichael/Documents/Software/c23.01/source/cloudy.exe -p test\n",
      "   test1: Cloudy ended after seconds: in 683.3107850551605\n",
      "runs/power_law_density_30kpc_disk_700/test\n",
      "     test1: Running test\n",
      "     run_cloudy: running:  /Users/messeremichael/Documents/Software/c23.01/source/cloudy.exe -p test\n",
      "     run_cloudy: ending:  /Users/messeremichael/Documents/Software/c23.01/source/cloudy.exe -p test\n",
      "   test1: Cloudy ended after seconds: in 691.2366900444031\n",
      "runs/power_law_density_30kpc_disk_800/test\n",
      "     test1: Running test\n",
      "     run_cloudy: running:  /Users/messeremichael/Documents/Software/c23.01/source/cloudy.exe -p test\n",
      "     run_cloudy: ending:  /Users/messeremichael/Documents/Software/c23.01/source/cloudy.exe -p test\n",
      "   test1: Cloudy ended after seconds: in 678.8988988399506\n",
      "runs/power_law_density_30kpc_disk_900/test\n",
      "     test1: Running test\n",
      "     run_cloudy: running:  /Users/messeremichael/Documents/Software/c23.01/source/cloudy.exe -p test\n",
      "     run_cloudy: ending:  /Users/messeremichael/Documents/Software/c23.01/source/cloudy.exe -p test\n",
      "   test1: Cloudy ended after seconds: in 669.3034250736237\n",
      "runs/power_law_density_30kpc_disk_1000/test\n",
      "     test1: Running test\n",
      "     run_cloudy: running:  /Users/messeremichael/Documents/Software/c23.01/source/cloudy.exe -p test\n",
      "     run_cloudy: ending:  /Users/messeremichael/Documents/Software/c23.01/source/cloudy.exe -p test\n",
      "   test1: Cloudy ended after seconds: in 667.1525738239288\n",
      "runs/power_law_density_30kpc_disk_1100/test\n",
      "     test1: Running test\n",
      "     run_cloudy: running:  /Users/messeremichael/Documents/Software/c23.01/source/cloudy.exe -p test\n",
      "     run_cloudy: ending:  /Users/messeremichael/Documents/Software/c23.01/source/cloudy.exe -p test\n",
      "   test1: Cloudy ended after seconds: in 661.6360750198364\n",
      "runs/power_law_density_30kpc_disk_1200/test\n",
      "     test1: Running test\n",
      "     run_cloudy: running:  /Users/messeremichael/Documents/Software/c23.01/source/cloudy.exe -p test\n",
      "     run_cloudy: ending:  /Users/messeremichael/Documents/Software/c23.01/source/cloudy.exe -p test\n",
      "   test1: Cloudy ended after seconds: in 659.7776889801025\n",
      "runs/power_law_density_30kpc_disk_1300/test\n",
      "     test1: Running test\n",
      "     run_cloudy: running:  /Users/messeremichael/Documents/Software/c23.01/source/cloudy.exe -p test\n",
      "     run_cloudy: ending:  /Users/messeremichael/Documents/Software/c23.01/source/cloudy.exe -p test\n",
      "   test1: Cloudy ended after seconds: in 649.6555399894714\n",
      "runs/power_law_density_30kpc_disk_1400/test\n",
      "     test1: Running test\n",
      "     run_cloudy: running:  /Users/messeremichael/Documents/Software/c23.01/source/cloudy.exe -p test\n",
      "     run_cloudy: ending:  /Users/messeremichael/Documents/Software/c23.01/source/cloudy.exe -p test\n",
      "   test1: Cloudy ended after seconds: in 637.1014180183411\n",
      "runs/power_law_density_30kpc_disk_1500/test\n",
      "     test1: Running test\n",
      "     run_cloudy: running:  /Users/messeremichael/Documents/Software/c23.01/source/cloudy.exe -p test\n",
      "     run_cloudy: ending:  /Users/messeremichael/Documents/Software/c23.01/source/cloudy.exe -p test\n",
      "   test1: Cloudy ended after seconds: in 632.6787452697754\n",
      "runs/power_law_density_30kpc_disk_1600/test\n",
      "     test1: Running test\n",
      "     run_cloudy: running:  /Users/messeremichael/Documents/Software/c23.01/source/cloudy.exe -p test\n",
      "     run_cloudy: ending:  /Users/messeremichael/Documents/Software/c23.01/source/cloudy.exe -p test\n",
      "   test1: Cloudy ended after seconds: in 625.453323841095\n",
      "runs/power_law_density_30kpc_disk_1700/test\n",
      "     test1: Running test\n",
      "     run_cloudy: running:  /Users/messeremichael/Documents/Software/c23.01/source/cloudy.exe -p test\n",
      "     run_cloudy: ending:  /Users/messeremichael/Documents/Software/c23.01/source/cloudy.exe -p test\n",
      "   test1: Cloudy ended after seconds: in 627.5100269317627\n",
      "runs/power_law_density_30kpc_disk_1800/test\n",
      "     test1: Running test\n",
      "     run_cloudy: running:  /Users/messeremichael/Documents/Software/c23.01/source/cloudy.exe -p test\n",
      "     run_cloudy: ending:  /Users/messeremichael/Documents/Software/c23.01/source/cloudy.exe -p test\n",
      "   test1: Cloudy ended after seconds: in 637.4130930900574\n",
      "runs/power_law_density_30kpc_disk_1900/test\n",
      "     test1: Running test\n",
      "     run_cloudy: running:  /Users/messeremichael/Documents/Software/c23.01/source/cloudy.exe -p test\n",
      "     run_cloudy: ending:  /Users/messeremichael/Documents/Software/c23.01/source/cloudy.exe -p test\n",
      "   test1: Cloudy ended after seconds: in 631.6932520866394\n",
      "runs/power_law_density_30kpc_disk_2000/test\n",
      "     test1: Running test\n",
      "     run_cloudy: running:  /Users/messeremichael/Documents/Software/c23.01/source/cloudy.exe -p test\n",
      "     run_cloudy: ending:  /Users/messeremichael/Documents/Software/c23.01/source/cloudy.exe -p test\n",
      "   test1: Cloudy ended after seconds: in 618.8470640182495\n"
     ]
    }
   ],
   "source": [
    "for i, zheight in enumerate(np.arange(0,2100,100)):\n",
    "\n",
    "    dir_ = 'runs/power_law_density_30kpc_disk' + '_' + str(zheight) + '/'\n",
    "    model_name = 'test'  \n",
    "    full_model_name = '{0}{1}'.format(dir_, model_name)\n",
    "    \n",
    "    print(full_model_name)\n",
    "\n",
    "    c_input = pc.CloudyInput(full_model_name)\n",
    "\n",
    "    pc.log_.message('Running {0}'.format(model_name), calling = 'test1')\n",
    "    pc.log_.timer('Starting Cloudy', quiet = True, calling = 'test1')\n",
    "\n",
    "    c_input.run_cloudy()\n",
    "    pc.log_.timer('Cloudy ended after seconds:', calling = 'test1')"
   ]
  },
  {
   "cell_type": "code",
   "execution_count": null,
   "metadata": {},
   "outputs": [],
   "source": [
    "alpha_value = [441.0401063429482,\n",
    " 441.0401063429551,\n",
    " 441.04010634294764,\n",
    " 441.04010634296486,\n",
    " 441.0401063429502,\n",
    " 441.0401063429613,\n",
    " 441.0401063429493,\n",
    " 441.04010634295145,\n",
    " 441.0401063429513,\n",
    " 441.0401063429619,\n",
    " 441.040106342953,\n",
    " 441.0401063429565,\n",
    " 441.0401063429526,\n",
    " 441.0401063429559,\n",
    " 441.04010634296424,\n",
    " 441.0401063429528,\n",
    " 441.04010634295526,\n",
    " 441.0401063429572,\n",
    " 441.0401063429612,\n",
    " 441.04010634296,\n",
    " 441.04010634295014]\n",
    "\n",
    "constant_value = [-5.488619374464995,\n",
    " -5.590566435944631,\n",
    " -5.692513497424268,\n",
    " -5.794460558903904,\n",
    " -5.896407620383541,\n",
    " -5.998354681863177,\n",
    " -6.100301743342814,\n",
    " -6.2022488048224504,\n",
    " -6.304195866302087,\n",
    " -6.4061429277817235,\n",
    " -6.50808998926136,\n",
    " -6.610037050740997,\n",
    " -6.711984112220633,\n",
    " -6.81393117370027,\n",
    " -6.915878235179907,\n",
    " -7.017825296659543,\n",
    " -7.11977235813918,\n",
    " -7.221719419618816,\n",
    " -7.323666481098453,\n",
    " -7.425613542578089,\n",
    " -7.527560604057726]"
   ]
  },
  {
   "cell_type": "code",
   "execution_count": null,
   "metadata": {},
   "outputs": [],
   "source": []
  },
  {
   "cell_type": "code",
   "execution_count": null,
   "metadata": {},
   "outputs": [],
   "source": []
  },
  {
   "cell_type": "code",
   "execution_count": null,
   "metadata": {},
   "outputs": [],
   "source": []
  },
  {
   "cell_type": "code",
   "execution_count": null,
   "metadata": {},
   "outputs": [],
   "source": []
  },
  {
   "cell_type": "code",
   "execution_count": null,
   "metadata": {},
   "outputs": [],
   "source": []
  },
  {
   "cell_type": "code",
   "execution_count": null,
   "metadata": {},
   "outputs": [],
   "source": []
  },
  {
   "cell_type": "code",
   "execution_count": null,
   "metadata": {},
   "outputs": [],
   "source": []
  },
  {
   "cell_type": "code",
   "execution_count": null,
   "metadata": {},
   "outputs": [],
   "source": []
  },
  {
   "cell_type": "code",
   "execution_count": null,
   "metadata": {},
   "outputs": [],
   "source": []
  },
  {
   "cell_type": "code",
   "execution_count": null,
   "metadata": {},
   "outputs": [],
   "source": []
  },
  {
   "cell_type": "code",
   "execution_count": null,
   "metadata": {},
   "outputs": [],
   "source": []
  },
  {
   "cell_type": "code",
   "execution_count": null,
   "metadata": {},
   "outputs": [],
   "source": []
  },
  {
   "cell_type": "code",
   "execution_count": null,
   "metadata": {},
   "outputs": [],
   "source": []
  },
  {
   "cell_type": "code",
   "execution_count": null,
   "metadata": {},
   "outputs": [],
   "source": []
  },
  {
   "cell_type": "code",
   "execution_count": null,
   "metadata": {},
   "outputs": [],
   "source": [
    "np.arange(10)"
   ]
  },
  {
   "cell_type": "code",
   "execution_count": null,
   "metadata": {},
   "outputs": [],
   "source": [
    "# run CLOUDY model for problem 2, varying density\n",
    "\n",
    "\n",
    "model_number = [0, 1, 2, 3, 4, 5, 6, 7, 8, 9, 10]\n",
    "density = [1, 2, 3, 4, 5]\n",
    "\n",
    "for i in range(len(density)):\n",
    "\n",
    "    model_name = 'disk_' + str(model_number[i])   \n",
    "    full_model_name = '{0}{1}'.format(dir_, model_name)\n",
    "    #dens = density[i] #log cm-3, we'll assume uniform density\n",
    "    #Teff = 36870 # Effective blackbody temperature of Central Star in K\n",
    "    #qH = 48.75 # Rate of production of Hydrogen ionizing photons in log photons s^-1 \n",
    "    #abundance_predef = 'hii region'  # Use pre-defined hii region abundances\n",
    "    #metals = 1   # Metal scaling for abundances (for Problem 3)\n",
    "    r_min = 5e16 # cm Inner radius (use as default)\n",
    "    #r_max = 2e18 # cm  # Outer radius (if needed)\n",
    "    #dist = 1.0 # kpc, only used for final output spectra\n",
    "\n",
    "    # Emission lines that we may be using for analysis of model outputs\n",
    "    emis_tab = ['H  1  4861.33A',\n",
    "                'H  1  6562.81A',\n",
    "                'Ca B  5875.64A',\n",
    "                'N  2  6583.45A',\n",
    "                'O  1  6300.30A',\n",
    "                'O  2  3726.03A',\n",
    "                'O  2  3728.81A',\n",
    "                'S  2  6716.44A',\n",
    "                'S  2  6730.82A',            \n",
    "                'O  3  5006.84A',\n",
    "                'BLND  4363.00A',\n",
    "                'Cl 3  5517.71A',\n",
    "                'Cl 3  5537.87A',\n",
    "                'O  1  63.1679m',\n",
    "                'O  1  145.495m',\n",
    "                'C  2  157.636m']\n",
    "\n",
    "    # Defining the object that will manage the input file for Cloudy\n",
    "    c_input = pc.CloudyInput(full_model_name)\n",
    "\n",
    "    # Filling the object with the parameters\n",
    "    # Defining the ionizing SED: Effective temperature and luminosity.\n",
    "    # The lumi_unit is one of the Cloudy options, like \"luminosity solar\", \"q(H)\", \"ionization parameter\", etc... \n",
    "    #c_input.set_BB(Teff = Teff, lumi_unit = 'q(H)', lumi_value = qH)\n",
    "\n",
    "    # Example, if you would like to use the ionization parameter U to set luminosity\n",
    "    # c_input.set_BB(Teff = Teff, lumi_unit = 'ionization parameter', lumi_value = logU)\n",
    "\n",
    "    # Defining the density and profile\n",
    "    dens = -5.600659858271809\n",
    "    power = 450\n",
    "    c_input.set_cste_density(dens=dens,other) # constant density\n",
    "\n",
    "    # Defining the inner radius. A second parameter could be the outer radius (matter-bounded nebula).\n",
    "    #c_input.set_radius(r_in=np.log10(r_min),r_out=np.log10(r_max))\n",
    "    c_input.set_radius(r_in=np.log10(r_min))\n",
    "\n",
    "    #c_input.set_abund(ab_dict = abund, nograins = True)\n",
    "    c_input.set_abund(predef=abundance_predef, nograins = True,metals=metals)  # Use pre-defined hii region abundances\n",
    "\n",
    "    # Other options from above\n",
    "    c_input.set_other(options)\n",
    "\n",
    "    c_input.set_iterate(10) # (0) for no iteration, () for one iteration, (N) for N iterations.\n",
    "    #c_input.set_sphere() # () or (True) : sphere, or (False): open geometry.\n",
    "    c_input.set_emis_tab(emis_tab) # better use read_emis_file(file) for long list of lines, where file is an external file.\n",
    "    #c_input.set_distance(dist=dist, unit='kpc', linear=True) # unit can be 'kpc', 'Mpc', 'parsecs', 'cm'. If linear=False, the distance is in log.\n",
    "\n",
    "    # Writing the Cloudy inputs. to_file for writing to a file (named by full_model_name). verbose to print on the screen.\n",
    "    c_input.print_input(to_file = True, verbose = False)\n",
    "\n",
    "    # CHANGE THIS DIRECTORY BELOW\n",
    "    pc.config.cloudy_exe = '/home/x-mmessere/c23.01/source/cloudy.exe'\n",
    "\n",
    "    # Printing some message to the screen\n",
    "    pc.log_.message('Running {0}'.format(model_name), calling = 'test1')\n",
    "\n",
    "    # Running Cloudy with a timer. Here we reset it to 0.\n",
    "    pc.log_.timer('Starting Cloudy', quiet = True, calling = 'test1')\n",
    "    c_input.run_cloudy()\n",
    "    pc.log_.timer('Cloudy ended after seconds:', calling = 'test1')"
   ]
  },
  {
   "cell_type": "code",
   "execution_count": null,
   "metadata": {},
   "outputs": [],
   "source": [
    "# save models in array\n",
    "\n",
    "model_number = [2, 3, 4, 5, 6]\n",
    "mod_dens = []\n",
    "\n",
    "for i in range(len(model_number)):\n",
    "\n",
    "    model_name = 'hw1_v' + str(model_number[i])   \n",
    "    full_model_name = '{0}{1}'.format(dir_, model_name)\n",
    "    mod_dens.append(pc.CloudyModel(full_model_name))"
   ]
  },
  {
   "cell_type": "code",
   "execution_count": null,
   "metadata": {},
   "outputs": [],
   "source": []
  },
  {
   "cell_type": "code",
   "execution_count": null,
   "metadata": {},
   "outputs": [],
   "source": []
  },
  {
   "cell_type": "code",
   "execution_count": null,
   "metadata": {},
   "outputs": [],
   "source": []
  },
  {
   "cell_type": "code",
   "execution_count": null,
   "metadata": {},
   "outputs": [],
   "source": []
  },
  {
   "cell_type": "code",
   "execution_count": null,
   "metadata": {},
   "outputs": [],
   "source": []
  },
  {
   "cell_type": "code",
   "execution_count": null,
   "metadata": {},
   "outputs": [],
   "source": []
  },
  {
   "cell_type": "code",
   "execution_count": null,
   "metadata": {},
   "outputs": [],
   "source": []
  },
  {
   "cell_type": "code",
   "execution_count": 10,
   "metadata": {},
   "outputs": [
    {
     "name": "stdout",
     "output_type": "stream",
     "text": [
      "     test1: Running test\n",
      "     run_cloudy: running:  /Users/messeremichael/Documents/Software/c23.01/source/cloudy.exe -p test\n",
      "     run_cloudy: ending:  /Users/messeremichael/Documents/Software/c23.01/source/cloudy.exe -p test\n",
      "   test1: Cloudy ended after seconds: in 380.78208899497986\n"
     ]
    }
   ],
   "source": [
    "# power law number density\n",
    "\n",
    "dir_ = 'runs/power_law_density/'\n",
    "model_name = 'test'  \n",
    "full_model_name = '{0}{1}'.format(dir_, model_name)\n",
    "\n",
    "c_input = pc.CloudyInput(full_model_name)\n",
    "\n",
    "pc.log_.message('Running {0}'.format(model_name), calling = 'test1')\n",
    "pc.log_.timer('Starting Cloudy', quiet = True, calling = 'test1')\n",
    "\n",
    "c_input.run_cloudy()\n",
    "pc.log_.timer('Cloudy ended after seconds:', calling = 'test1')"
   ]
  },
  {
   "cell_type": "code",
   "execution_count": 11,
   "metadata": {
    "collapsed": true,
    "jupyter": {
     "outputs_hidden": true
    },
    "tags": []
   },
   "outputs": [
    {
     "name": "stdout",
     "output_type": "stream",
     "text": [
      "     CloudyModel runs/power_law_density/test: Creating CloudyModel for runs/power_law_density/test\n",
      "     CloudyModel runs/power_law_density/test: runs/power_law_density/test.rad read\n",
      "     CloudyModel runs/power_law_density/test: Number of zones: 300\n",
      "     CloudyModel runs/power_law_density/test: runs/power_law_density/test.phy read\n",
      "     CloudyModel runs/power_law_density/test: runs/power_law_density/test.ele_H read\n",
      "     CloudyModel runs/power_law_density/test: filling H with 3 columns\n",
      "     CloudyModel runs/power_law_density/test: runs/power_law_density/test.ele_He read\n",
      "     CloudyModel runs/power_law_density/test: filling He with 3 columns\n",
      "     CloudyModel runs/power_law_density/test: runs/power_law_density/test.ele_C read\n",
      "     CloudyModel runs/power_law_density/test: filling C with 13 columns\n",
      "     CloudyModel runs/power_law_density/test: runs/power_law_density/test.ele_N read\n",
      "     CloudyModel runs/power_law_density/test: filling N with 8 columns\n",
      "     CloudyModel runs/power_law_density/test: runs/power_law_density/test.ele_O read\n",
      "     CloudyModel runs/power_law_density/test: filling O with 12 columns\n",
      "     CloudyModel runs/power_law_density/test: runs/power_law_density/test.ele_Ne read\n",
      "     CloudyModel runs/power_law_density/test: filling Ne with 11 columns\n",
      "     CloudyModel runs/power_law_density/test: runs/power_law_density/test.ele_Ar read\n",
      "     CloudyModel runs/power_law_density/test: filling Ar with 19 columns\n",
      "     CloudyModel runs/power_law_density/test: runs/power_law_density/test.ele_S read\n",
      "     CloudyModel runs/power_law_density/test: filling S with 17 columns\n",
      "     CloudyModel runs/power_law_density/test: runs/power_law_density/test.ele_Cl read\n",
      "     CloudyModel runs/power_law_density/test: filling Cl with 18 columns\n",
      "     CloudyModel runs/power_law_density/test: runs/power_law_density/test.ele_Fe read\n",
      "     CloudyModel runs/power_law_density/test: filling Fe with 27 columns\n",
      "     CloudyModel runs/power_law_density/test: runs/power_law_density/test.ele_Si read\n",
      "     CloudyModel runs/power_law_density/test: filling Si with 15 columns\n",
      "     CloudyModel runs/power_law_density/test: runs/power_law_density/test.emis read\n",
      "     CloudyModel runs/power_law_density/test: Number of emissivities: 16\n",
      "     CloudyModel runs/power_law_density/test: runs/power_law_density/test.cont read\n"
     ]
    }
   ],
   "source": [
    "model = pc.CloudyModel(full_model_name)"
   ]
  },
  {
   "cell_type": "code",
   "execution_count": 12,
   "metadata": {},
   "outputs": [
    {
     "data": {
      "image/png": "[encoded data removed]",
      "text/plain": [
       "<Figure size 576x576 with 1 Axes>"
      ]
     },
     "metadata": {
      "needs_background": "light"
     },
     "output_type": "display_data"
    }
   ],
   "source": [
    "# Plot ionization fractions (for Problem 1, and useful for 2 and 3)\n",
    "plt.figure(figsize=(8,8))\n",
    "plt.scatter(model.radius/3.06e21, model.nH, label = 'HII')\n",
    "#plt.scatter(model.radius, model.get_ionic('H', 0), label = 'HI')\n",
    "#plt.plot(model.radius, model.get_ionic('He', 0), label = 'HeI')\n",
    "#plt.plot(model.radius, model.get_ionic('He', 1), label = 'HeII')\n",
    "#plt.plot(model.radius, model.get_ionic('He', 2), label = 'HeIII')\n",
    "plt.xlabel('Radius',fontsize=14)\n",
    "plt.ylabel(r'$x_{ion}$',fontsize=14)\n",
    "plt.title('Ionization Zones',fontsize=18)\n",
    "plt.legend(loc=3,fontsize=12)\n",
    "plt.yscale('log')\n"
   ]
  },
  {
   "cell_type": "code",
   "execution_count": null,
   "metadata": {},
   "outputs": [],
   "source": []
  },
  {
   "cell_type": "code",
   "execution_count": null,
   "metadata": {
    "tags": []
   },
   "outputs": [],
   "source": [
    "pc.config.cloudy_exe = '/Users/messeremichael/Documents/Software/c23.01/source/cloudy.exe'\n",
    "\n",
    "for i in range(7):\n",
    "    \n",
    "    dir_ = 'pdr/'\n",
    "    model_name = 'ps2_pdr' + str(i)   \n",
    "    full_model_name = '{0}{1}'.format(dir_, model_name)\n",
    "    \n",
    "    c_input = pc.CloudyInput(full_model_name)\n",
    "    \n",
    "    pc.log_.message('Running {0}'.format(model_name), calling = 'test1')\n",
    "    pc.log_.timer('Starting Cloudy', quiet = True, calling = 'test1')\n",
    "    \n",
    "    c_input.run_cloudy()\n",
    "    pc.log_.timer('Cloudy ended after seconds:', calling = 'test1')"
   ]
  },
  {
   "cell_type": "markdown",
   "metadata": {},
   "source": [
    "## Reading the Output\n",
    "\n",
    "These can be used to read main cloudy input files  .ovr (overview), .mol (species densities), .col (cooling rates and fractions), .het (heating rates and fractions)"
   ]
  },
  {
   "cell_type": "code",
   "execution_count": null,
   "metadata": {},
   "outputs": [],
   "source": [
    "# Functions for reading main cloudy input files  .ovr (overview), .mol (species densities), .col (cooling rates and fractions), .het (heating rates and fractions)\n",
    "\n",
    "def read_overview(model_name,path):\n",
    "    file=model_name+'.ovr'\n",
    "    return(Table.from_pandas(pd.read_table(path+file)))\n",
    "\n",
    "def read_molecule(model_name,path):\n",
    "    file=model_name+'.mol'\n",
    "    return(Table.from_pandas(pd.read_table(path+file)))\n",
    "\n",
    "def read_cooling(model_name,path):\n",
    "    file=path+model_name+'.col'\n",
    "    with open(file) as f:\n",
    "        ftable = f.readlines()\n",
    "    f.close()\n",
    "    rows=len(ftable)    \n",
    "    \n",
    "    # First find which molecule/processes are listed in the cooling table at a given radii\n",
    "    coolstr=[]\n",
    "    for line in ftable[1:rows]:     # skip comment header\n",
    "        row = [item.strip() for item in line.split('\\t')]\n",
    "        lrow=len(row)\n",
    "         # find process string in every other, starting at 6th column\n",
    "        coolstr=np.concatenate((coolstr,np.array(row[5:lrow:2])))  \n",
    "\n",
    "    # Make an array of the unique labels from above    \n",
    "    cool_unique=np.unique(coolstr)\n",
    "\n",
    "    # Build two arrays to contain the cooling table info, and the cooling fraction\n",
    "    ulen=len(cool_unique)\n",
    "    info=['depth_cm','Temp','Heat_tot','Cool_tot','NotUsed']\n",
    "    coolarr_info=np.zeros((rows-1,5),dtype='float64')\n",
    "    coolarr_frac=np.zeros((rows-1,ulen),dtype='float64')\n",
    "\n",
    "    # Now cycle through file again to extract info and cooling fractions for each entry found in the table\n",
    "    for line,index in zip(ftable[1:rows],np.arange(rows-1)):\n",
    "        row = [item.strip() for item in line.split('\\t')]\n",
    "        lrow=len(row)\n",
    "        coolarr_info[index,:]=np.float64(np.array(row[0:5]))\n",
    "        # find process string in every other, starting at 6th column\n",
    "        typestr=np.array(row[5:lrow:2])   \n",
    "        # find fraction is then in every other, starting at 7th column\n",
    "        val=np.float64(np.array(row[6:lrow:2]))\n",
    "        for t,v in zip(typestr,val):\n",
    "            p=np.argwhere(t==cool_unique)\n",
    "            coolarr_frac[index,p[0]]=v\n",
    "\n",
    "    t_cool_info=Table(coolarr_info,names=info)\n",
    "    t_cool_frac=Table(coolarr_frac,names=cool_unique)\n",
    "    return(t_cool_info,t_cool_frac)\n",
    "\n",
    "def read_heating(model_name,path):\n",
    "    file=path+model_name+'.het'\n",
    "    with open(file) as f:\n",
    "        ftable = f.readlines()\n",
    "    f.close()\n",
    "    # for heating, there may be more rows than we want\n",
    "    init_rows=len(ftable)    \n",
    "    rowflg=np.zeros(init_rows)\n",
    "\n",
    "\n",
    "    # First find which molecule/processes are listed in the heating table at a given radii\n",
    "    heatstr=[]\n",
    "    for line,index in zip(ftable[1:init_rows],np.arange(init_rows-1)):     # skip comment header\n",
    "        row = [item.strip() for item in line.split('\\t')]\n",
    "        lrow=len(row)\n",
    "        if (lrow>5):\n",
    "         # find process string in every other, starting at 6th column\n",
    "            heatstr=np.concatenate((heatstr,np.array(row[5:lrow:2])))  \n",
    "            rowflg[index+1]=1    # +1 to account for header line\n",
    "    \n",
    "    rows=np.sum(rowflg).astype(\"int64\")\n",
    "    ftable_tmp=np.array(ftable)\n",
    "    p=np.where(rowflg==1)\n",
    "    ftable=ftable_tmp[p[0]]   # note this table has no header\n",
    "    \n",
    "    # Make an array of the unique labels from above    \n",
    "    heat_unique=np.unique(heatstr)\n",
    "\n",
    "    # Build two arrays to contain the cooling table info, and the cooling fraction\n",
    "    ulen=len(heat_unique)\n",
    "    info=['depth_cm','Temp','Heat_tot','Cool_tot','NotUsed']\n",
    "    heatarr_info=np.zeros((rows,5),dtype='float64')    # slightly different from cool arr since no header\n",
    "    heatarr_frac=np.zeros((rows,ulen),dtype='float64')   # slightly different from cool arr since no header\n",
    "\n",
    "\n",
    "    # Now cycle through file again to extract info and cooling fractions for each entry found in the table\n",
    "    for line,index in zip(ftable[0:rows],np.arange(rows)):\n",
    "        row = [item.strip() for item in line.split('\\t')]\n",
    "        lrow=len(row)\n",
    "        heatarr_info[index,:]=np.float64(np.array(row[0:5]))\n",
    "        # find process string in every other, starting at 6th column\n",
    "        typestr=np.array(row[5:lrow:2])   \n",
    "        # find fraction is then in every other, starting at 7th column\n",
    "        val=np.float64(np.array(row[6:lrow:2]))\n",
    "        for t,v in zip(typestr,val):\n",
    "            p=np.argwhere(t==heat_unique)\n",
    "            heatarr_frac[index,p[0]]=v\n",
    "\n",
    "    t_heat_info=Table(heatarr_info,names=info)\n",
    "    t_heat_frac=Table(heatarr_frac,names=heat_unique)\n",
    "    return(t_heat_info,t_heat_frac)\n"
   ]
  },
  {
   "cell_type": "code",
   "execution_count": null,
   "metadata": {},
   "outputs": [],
   "source": [
    "t_ovr = []    \n",
    "t_mol = []   \n",
    "t_cool_info = []\n",
    "t_cool_frac = []   \n",
    "t_heat_info = []\n",
    "t_heat_frac = []\n",
    "\n",
    "for i in range(7):\n",
    "    \n",
    "    path = 'pdr/'\n",
    "    model_name = 'ps2_pdr' + str(i)   \n",
    "    \n",
    "    t_ovr.append(read_overview(model_name,path))\n",
    "    t_mol.append(read_molecule(model_name,path))\n",
    "    t_cool_info_temp, t_cool_frac_temp = read_cooling(model_name,path)\n",
    "    t_cool_info.append(t_cool_info_temp)\n",
    "    t_cool_frac.append(t_cool_frac_temp)\n",
    "    t_heat_info_temp, t_heat_frac_temp = read_heating(model_name,path)\n",
    "    t_heat_info.append(t_heat_info_temp)\n",
    "    t_heat_frac.append(t_heat_frac_temp)"
   ]
  },
  {
   "cell_type": "markdown",
   "metadata": {},
   "source": [
    "## Plotting Functions"
   ]
  },
  {
   "cell_type": "code",
   "execution_count": null,
   "metadata": {},
   "outputs": [],
   "source": [
    "def frac_stackplot(t_frac,x,xlabel,title):\n",
    "\n",
    "    cm = plt.get_cmap('tab20b')\n",
    "    y=np.lib.recfunctions.structured_to_unstructured(t_frac.as_array())\n",
    "\n",
    "    labels=t_frac.colnames\n",
    "    nlabel=len(labels)\n",
    "\n",
    "    plt.figure(figsize=(9,6))\n",
    "\n",
    "    plt.stackplot(x,np.transpose(y),labels=labels,colors=cm(np.arange(len(labels))/len(labels)),ec='k')\n",
    "    plt.legend()\n",
    "    plt.xlabel(xlabel)\n",
    "    plt.title(title)\n",
    "    plt.ylabel('Fraction')\n",
    "    #plt.xscale(\"log\")\n",
    "    #plt.yscale(\"log\")\n",
    "    plt.show()"
   ]
  },
  {
   "cell_type": "markdown",
   "metadata": {
    "tags": []
   },
   "source": [
    "## Problem 4a"
   ]
  },
  {
   "cell_type": "markdown",
   "metadata": {},
   "source": [
    "For the fiducial PDR/dark region – how do species ionization and fractions and **molecular compositions** vary with Av?  In each region (low Av, high Av) which processes dominate the heating and cooling rates?"
   ]
  },
  {
   "cell_type": "code",
   "execution_count": null,
   "metadata": {},
   "outputs": [],
   "source": [
    "i = 0\n",
    "model_name = 'ps2_pdr' + str(i) \n",
    "\n",
    "x_pc = (t_cool_info[i]['depth_cm'].data*u.cm).to('pc').value\n",
    "x = t_ovr[i]['AV(point)'].data\n",
    "frac_stackplot(t_cool_frac[i],x,'$A_V$','Cooling: ' + model_name)    "
   ]
  },
  {
   "cell_type": "markdown",
   "metadata": {},
   "source": [
    "In the cooling plot above, it can be seen that when A$_v$ < 5, dust, Si, O, and C dominate compared to the presence of molecules when A$_v$ > 5. This is a result of these molecules being dissociated at smaller values of A$_v$, since they are closer to the radiation source. At low A$_v$, recombination domates. Further into the dark region at high A$_v$, cooling is dominated by molecular rotational transitions.   "
   ]
  },
  {
   "cell_type": "code",
   "execution_count": null,
   "metadata": {},
   "outputs": [],
   "source": [
    "i = 0\n",
    "model_name = 'ps2_pdr' + str(i) \n",
    "\n",
    "x = t_ovr[i]['AV(point)'].data   \n",
    "frac_stackplot(t_heat_frac[i],x,'$A_V$','Heating: ' + model_name)"
   ]
  },
  {
   "cell_type": "markdown",
   "metadata": {},
   "source": [
    "In the heating plot above, it can be seen that when A$_v$ < 5, GrnP dominates compared to the presence of H2dH and CRH when A$_v$ > 5. In this dark region, it is expected that heating is small and dominated by cosmic rays. There is no photo-ionization at this depth, which we saw closer to the radiation source in the previous homework. There could also be heating due to turbulence, ambipolar diffusion, gravitational heating, and collisons between gas and warm dust grains. GrnP stands for grain photoelectric effect. This is heating due to photons hitting electrons off of dust grains. There is also GrnC, or grain collisions, which increases slightly as GrnP decreases. This is likely due to the density of these inner regions increasing. H2dH represents molecular hydrogen (H$_2$) dissociation and CRH is cosmic ray heating. "
   ]
  },
  {
   "cell_type": "code",
   "execution_count": null,
   "metadata": {},
   "outputs": [],
   "source": [
    "# This is an example of species to plot, you might want to select others from above!\n",
    "pltspecies=['H','H+','H-','H2','H3+','He+','C','C+','O','O+','CO','OH','H2O']\n",
    "nspecies=len(pltspecies)\n",
    "\n",
    "cm = plt.get_cmap('gist_rainbow')\n",
    "colors=cm(np.arange(nspecies)/nspecies)\n",
    "\n",
    "plt.figure(figsize=(9,6)) \n",
    "for species,color in zip(pltspecies,colors):\n",
    "    plt.plot(t_mol[i]['AV(point)'],t_mol[i][species]/t_ovr[i]['hden'],label=species,color=color)\n",
    "   \n",
    "plt.legend()\n",
    "plt.yscale(\"log\")\n",
    "plt.xlabel(\"$A_V$\")\n",
    "plt.ylabel(\"n(species)/n(H)\")\n",
    "plt.title(\"Fractional species/ion abundance: \"+model_name)\n",
    "#plt.xlim((2,5))\n",
    "plt.ylim((1e-11,2))\n",
    "plt.show()"
   ]
  },
  {
   "cell_type": "markdown",
   "metadata": {},
   "source": [
    "In the above plot, we find that H species dominate across the region. For example, in the inner region where the temperature is highest, H dominates and then there is a sharp transition into H$_2$ at A$_v$ > 2. H+ also sharply drops off at A$_v$ = 0 and there is a small presence of H- below A$_v$ = 1. O remains fairly constant across the region while O+ decreases (similar to H+ decreasing, owing to the increase in density).\n",
    "\n",
    "CO, OH, and H$_2$O increase at A$_v$ > 2, since they can survive at these distances from the radiation source without being dissociated. "
   ]
  },
  {
   "cell_type": "code",
   "execution_count": null,
   "metadata": {},
   "outputs": [],
   "source": [
    "plt.figure(figsize=(9,6))\n",
    "plt.plot(t_ovr[i]['AV(point)'],t_ovr[i]['Te'])\n",
    "plt.yscale(\"log\")\n",
    "plt.ylabel(\"$T_e$\")\n",
    "plt.xlabel(\"$A_V$\")\n",
    "plt.title(\"Temperature vs. A$_V$: \"+model_name)\n",
    "plt.show()\n",
    "\n",
    "plt.figure(figsize=(9,6))\n",
    "plt.plot(t_ovr[i]['AV(point)'],t_ovr[i]['eden']/t_ovr[i]['hden'])\n",
    "plt.yscale(\"log\")\n",
    "plt.ylabel(\"$n_e/n_H$\")\n",
    "plt.xlabel(\"$A_V$\")\n",
    "plt.title(\"Fractional electron density vs. A$_V$:\"+model_name)\n",
    "plt.show()"
   ]
  },
  {
   "cell_type": "markdown",
   "metadata": {},
   "source": [
    "In the two plots above, the temperature and fractional electron density decrease further into the cloud (as A$_v$ increases). This is a result of material being more shielded from the radiation source at large A$_v$."
   ]
  },
  {
   "cell_type": "markdown",
   "metadata": {
    "tags": []
   },
   "source": [
    "## Problem 4b"
   ]
  },
  {
   "cell_type": "markdown",
   "metadata": {},
   "source": [
    "#### Changing Density:"
   ]
  },
  {
   "cell_type": "code",
   "execution_count": null,
   "metadata": {},
   "outputs": [],
   "source": [
    "i = 0\n",
    "model_name = 'ps2_pdr' + str(i) \n",
    "\n",
    "x_pc = (t_cool_info[i]['depth_cm'].data*u.cm).to('pc').value\n",
    "x = t_ovr[i]['AV(point)'].data\n",
    "frac_stackplot(t_cool_frac[i],x,'$A_V$','Cooling: ' + model_name)  \n",
    "\n",
    "i = 1\n",
    "model_name = 'ps2_pdr' + str(i) \n",
    "\n",
    "x_pc = (t_cool_info[i]['depth_cm'].data*u.cm).to('pc').value\n",
    "x = t_ovr[i]['AV(point)'].data\n",
    "frac_stackplot(t_cool_frac[i],x,'$A_V$','Cooling: ' + model_name)    \n",
    "\n",
    "i = 2\n",
    "model_name = 'ps2_pdr' + str(i) \n",
    "\n",
    "x_pc = (t_cool_info[i]['depth_cm'].data*u.cm).to('pc').value\n",
    "x = t_ovr[i]['AV(point)'].data\n",
    "frac_stackplot(t_cool_frac[i],x,'$A_V$','Cooling: ' + model_name) "
   ]
  },
  {
   "cell_type": "markdown",
   "metadata": {},
   "source": [
    "If you decrease the density to Hden = 2, then CH 0.0 dominates when A$_v$ < 2 and C 10.0 dominates when A$_v$ > 2. However, O 10.0 increases slowly as A$_v$ approaches 10. \n",
    "\n",
    "If the density increases to Hden = 6, then the CH 0.0 and C 10.0 no longer dominate. Intead, dust dominates at A$_v$ < 2 and O 10.0 dominates in the interval A$_v$ = [2, 8]. Similar to the intermediate density model, CO dominates at A$_v$ > 8."
   ]
  },
  {
   "cell_type": "code",
   "execution_count": null,
   "metadata": {},
   "outputs": [],
   "source": [
    "i = 0\n",
    "model_name = 'ps2_pdr' + str(i) \n",
    "\n",
    "x = t_ovr[i]['AV(point)'].data   \n",
    "frac_stackplot(t_heat_frac[i],x,'$A_V$','Heating: ' + model_name)\n",
    "\n",
    "i = 1\n",
    "model_name = 'ps2_pdr' + str(i) \n",
    "\n",
    "x = t_ovr[i]['AV(point)'].data   \n",
    "frac_stackplot(t_heat_frac[i],x,'$A_V$','Heating: ' + model_name)\n",
    "\n",
    "i = 2\n",
    "model_name = 'ps2_pdr' + str(i) \n",
    "\n",
    "x = t_ovr[i]['AV(point)'].data   \n",
    "frac_stackplot(t_heat_frac[i],x,'$A_V$','Heating: ' + model_name)"
   ]
  },
  {
   "cell_type": "markdown",
   "metadata": {},
   "source": [
    "If you decrease the density, then the distribution is similar to the intermediate density model except that the grain photoelectric effect only dominates the heating up to A$_v$ = 2, instead of A$_v$ = 4. Cosmic ray heating and molecular hydrogen dissociation nearly equally contribute to the heating at A$_v$ > 2.\n",
    "\n",
    "If the density is increased, then the heating of the region out to A$_v$ = 6 is dominated by the grain photoelectric effect. The inner dark region is dominated by grain collisions, likely due to the increase in density. "
   ]
  },
  {
   "cell_type": "code",
   "execution_count": null,
   "metadata": {},
   "outputs": [],
   "source": [
    "i_values = [0, 1, 2]\n",
    "model_names = ['ps2_pdr' + str(i) for i in i_values]\n",
    "\n",
    "pltspecies=['H','H+','H-','H2','H3+','He+','C','C+','O','O+','CO','OH','H2O']\n",
    "nspecies=len(pltspecies)\n",
    "\n",
    "cm = plt.get_cmap('gist_rainbow')\n",
    "colors=cm(np.arange(nspecies)/nspecies)\n",
    "\n",
    "plt.figure(figsize=(18,4))\n",
    "\n",
    "for idx, i in enumerate(i_values, start=1):\n",
    "    plt.subplot(1, 3, idx)\n",
    "    for species,color in zip(pltspecies,colors):\n",
    "        plt.plot(t_mol[i]['AV(point)'],t_mol[i][species]/t_ovr[i]['hden'],label=species,color=color)\n",
    "    plt.legend()\n",
    "    plt.yscale(\"log\")\n",
    "    plt.xlabel(\"$A_V$\")\n",
    "    plt.ylabel(\"n(species)/n(H)\")\n",
    "    plt.title(\"Fractional species/ion abundance: \" + model_names[idx-1])\n",
    "    plt.ylim((1e-11,2))\n",
    "\n",
    "plt.tight_layout()\n",
    "plt.show()"
   ]
  },
  {
   "cell_type": "markdown",
   "metadata": {},
   "source": [
    "It seems that the largest effect of decreasing/increasing the density parameter is the location at which molecules start to form. As the density increases from 2 to 6, the relative enhancement of H$_2$, CO, OH, and H$_2$O increases to larger values of A_$v$. "
   ]
  },
  {
   "cell_type": "code",
   "execution_count": null,
   "metadata": {},
   "outputs": [],
   "source": [
    "i_values = [1, 2, 3]\n",
    "model_names = ['ps2_pdr' + str(i) for i in i_values]\n",
    "\n",
    "plt.figure(figsize=(14, 10))\n",
    "\n",
    "for idx, i in enumerate(i_values, start=1):\n",
    "    plt.subplot(3, 2, idx*2-1)\n",
    "    plt.plot(t_ovr[i]['AV(point)'], t_ovr[i]['Te'])\n",
    "    plt.yscale(\"log\")\n",
    "    plt.ylabel(\"$T_e$\")\n",
    "    plt.xlabel(\"$A_V$\")\n",
    "    plt.title(\"Temperature vs. A$_V$: \" + model_names[idx-1])\n",
    "\n",
    "    plt.subplot(3, 2, idx*2)\n",
    "    plt.plot(t_ovr[i]['AV(point)'], t_ovr[i]['eden'] / t_ovr[i]['hden'])\n",
    "    plt.yscale(\"log\")\n",
    "    plt.ylabel(\"$n_e/n_H$\")\n",
    "    plt.xlabel(\"$A_V$\")\n",
    "    plt.title(\"Fractional electron density vs. A$_V$: \" + model_names[idx-1])\n",
    "\n",
    "plt.tight_layout()\n",
    "plt.show()"
   ]
  },
  {
   "cell_type": "markdown",
   "metadata": {},
   "source": [
    "As the density increases from 2 to 6, it can be seen in the above plots that both the temperature and fractional electron density drop off more rapidly. However, there is less of a difference between 4/6 than 2/4. At hden = 4, there seems to be an enhancement of temperature at A$_v$ > 2 whereas there is no increase at hden = 6.  "
   ]
  },
  {
   "cell_type": "markdown",
   "metadata": {},
   "source": [
    "### Changing Metal-Grain Ratio:"
   ]
  },
  {
   "cell_type": "code",
   "execution_count": null,
   "metadata": {},
   "outputs": [],
   "source": [
    "i = 0\n",
    "model_name = 'ps2_pdr' + str(i) \n",
    "\n",
    "x_pc = (t_cool_info[i]['depth_cm'].data*u.cm).to('pc').value\n",
    "x = t_ovr[i]['AV(point)'].data\n",
    "frac_stackplot(t_cool_frac[i],x,'$A_V$','Cooling: ' + model_name)  \n",
    "\n",
    "i = 3\n",
    "model_name = 'ps2_pdr' + str(i) \n",
    "\n",
    "x_pc = (t_cool_info[i]['depth_cm'].data*u.cm).to('pc').value\n",
    "x = t_ovr[i]['AV(point)'].data\n",
    "frac_stackplot(t_cool_frac[i],x,'$A_V$','Cooling: ' + model_name)    \n",
    "\n",
    "i = 4\n",
    "model_name = 'ps2_pdr' + str(i) \n",
    "\n",
    "x_pc = (t_cool_info[i]['depth_cm'].data*u.cm).to('pc').value\n",
    "x = t_ovr[i]['AV(point)'].data\n",
    "frac_stackplot(t_cool_frac[i],x,'$A_V$','Cooling: ' + model_name) "
   ]
  },
  {
   "cell_type": "markdown",
   "metadata": {},
   "source": [
    "If we increase the metal/grain ratio from the middle to top to bottom panel, we find that dust, O, and Si dominate in cooling at low A$_v$. The maximum C fraction increases as the ratio increases, but is found at slightly larger values of A$_v$. At high A$_v$, we see that the CO fraction increases and CH decreases as the ratio increases. In addition the fraction CS decreases and moves towards higher A$_v$. "
   ]
  },
  {
   "cell_type": "code",
   "execution_count": null,
   "metadata": {},
   "outputs": [],
   "source": [
    "i = 0\n",
    "model_name = 'ps2_pdr' + str(i) \n",
    "\n",
    "x = t_ovr[i]['AV(point)'].data   \n",
    "frac_stackplot(t_heat_frac[i],x,'$A_V$','Heating: ' + model_name)\n",
    "\n",
    "i = 3\n",
    "model_name = 'ps2_pdr' + str(i) \n",
    "\n",
    "x = t_ovr[i]['AV(point)'].data   \n",
    "frac_stackplot(t_heat_frac[i],x,'$A_V$','Heating: ' + model_name)\n",
    "\n",
    "i = 4\n",
    "model_name = 'ps2_pdr' + str(i) \n",
    "\n",
    "x = t_ovr[i]['AV(point)'].data   \n",
    "frac_stackplot(t_heat_frac[i],x,'$A_V$','Heating: ' + model_name)"
   ]
  },
  {
   "cell_type": "markdown",
   "metadata": {},
   "source": [
    "As we increase the metal/grain ratio, the contribution of grain photoelectric effect dominates further into the dark region. There is no grain collison contribution when the metal/grain ratio is lowest. When it is largest, there are also some contributions from Si 1 and not just CrnP, H2dH, and CR H. However, the grain photoelectric never contributes to the heating at the innermost region in any of the models. This region is exclusively H2dH and CR H (and CrnP of the ratio is large enough)."
   ]
  },
  {
   "cell_type": "code",
   "execution_count": null,
   "metadata": {},
   "outputs": [],
   "source": [
    "i_values = [0, 3, 4]\n",
    "model_names = ['ps2_pdr' + str(i) for i in i_values]\n",
    "\n",
    "pltspecies=['H','H+','H-','H2','H3+','He+','C','C+','O','O+','CO','OH','H2O']\n",
    "nspecies=len(pltspecies)\n",
    "\n",
    "cm = plt.get_cmap('gist_rainbow')\n",
    "colors=cm(np.arange(nspecies)/nspecies)\n",
    "\n",
    "plt.figure(figsize=(18,4))\n",
    "\n",
    "for idx, i in enumerate(i_values, start=1):\n",
    "    plt.subplot(1, 3, idx)\n",
    "    for species,color in zip(pltspecies,colors):\n",
    "        plt.plot(t_mol[i]['AV(point)'],t_mol[i][species]/t_ovr[i]['hden'],label=species,color=color)\n",
    "    plt.legend()\n",
    "    plt.yscale(\"log\")\n",
    "    plt.xlabel(\"$A_V$\")\n",
    "    plt.ylabel(\"n(species)/n(H)\")\n",
    "    plt.title(\"Fractional species/ion abundance: \" + model_names[idx-1])\n",
    "    plt.ylim((1e-11,2))\n",
    "\n",
    "plt.tight_layout()\n",
    "plt.show()\n"
   ]
  },
  {
   "cell_type": "markdown",
   "metadata": {},
   "source": [
    "Similar to when we increased the density in the previous example, the distance into the cloud at which the molecule fraction begins to increase becomes larger as the ratio increases. "
   ]
  },
  {
   "cell_type": "code",
   "execution_count": null,
   "metadata": {},
   "outputs": [],
   "source": [
    "i_values = [1, 3, 4]\n",
    "model_names = ['ps2_pdr' + str(i) for i in i_values]\n",
    "\n",
    "plt.figure(figsize=(14, 10))\n",
    "\n",
    "for idx, i in enumerate(i_values, start=1):\n",
    "    plt.subplot(3, 2, idx*2-1)\n",
    "    plt.plot(t_ovr[i]['AV(point)'], t_ovr[i]['Te'])\n",
    "    plt.yscale(\"log\")\n",
    "    plt.ylabel(\"$T_e$\")\n",
    "    plt.xlabel(\"$A_V$\")\n",
    "    plt.title(\"Temperature vs. A$_V$: \" + model_names[idx-1])\n",
    "\n",
    "    plt.subplot(3, 2, idx*2)\n",
    "    plt.plot(t_ovr[i]['AV(point)'], t_ovr[i]['eden'] / t_ovr[i]['hden'])\n",
    "    plt.yscale(\"log\")\n",
    "    plt.ylabel(\"$n_e/n_H$\")\n",
    "    plt.xlabel(\"$A_V$\")\n",
    "    plt.title(\"Fractional electron density vs. A$_V$: \" + model_names[idx-1])\n",
    "\n",
    "plt.tight_layout()\n",
    "plt.show()"
   ]
  },
  {
   "cell_type": "markdown",
   "metadata": {},
   "source": [
    "As the dust-to-metal ratio increases, there is a more gradual temperature and electron density drop-off. A larger presence of metals (smaller ratio) will lead to more efficient cooling. A larger presence of dust (larger ratio) will lead to more heating from absorption of photons, collisions, and H$_2$ formation on their surfaces."
   ]
  },
  {
   "cell_type": "markdown",
   "metadata": {},
   "source": [
    "### Changing Cosmic Ray Density:"
   ]
  },
  {
   "cell_type": "code",
   "execution_count": null,
   "metadata": {},
   "outputs": [],
   "source": [
    "i = 0\n",
    "model_name = 'ps2_pdr' + str(i) \n",
    "\n",
    "x_pc = (t_cool_info[i]['depth_cm'].data*u.cm).to('pc').value\n",
    "x = t_ovr[i]['AV(point)'].data\n",
    "frac_stackplot(t_cool_frac[i],x,'$A_V$','Cooling: ' + model_name)  \n",
    "\n",
    "i = 5\n",
    "model_name = 'ps2_pdr' + str(i) \n",
    "\n",
    "x_pc = (t_cool_info[i]['depth_cm'].data*u.cm).to('pc').value\n",
    "x = t_ovr[i]['AV(point)'].data\n",
    "frac_stackplot(t_cool_frac[i],x,'$A_V$','Cooling: ' + model_name)    \n",
    "\n",
    "i = 6\n",
    "model_name = 'ps2_pdr' + str(i) \n",
    "\n",
    "x_pc = (t_cool_info[i]['depth_cm'].data*u.cm).to('pc').value\n",
    "x = t_ovr[i]['AV(point)'].data\n",
    "frac_stackplot(t_cool_frac[i],x,'$A_V$','Cooling: ' + model_name) "
   ]
  },
  {
   "cell_type": "markdown",
   "metadata": {},
   "source": [
    "If the cosmic ray density decreases, then there is cooling also due to C 20.0. Besides this, the structure/contribution to cooling does not change much compared to the fiducial model. \n",
    "\n",
    "However, if the comsic ray density increases, then O 10.0 dominates across nearly the entire region."
   ]
  },
  {
   "cell_type": "code",
   "execution_count": null,
   "metadata": {},
   "outputs": [],
   "source": [
    "i = 0\n",
    "model_name = 'ps2_pdr' + str(i) \n",
    "\n",
    "x = t_ovr[i]['AV(point)'].data   \n",
    "frac_stackplot(t_heat_frac[i],x,'$A_V$','Heating: ' + model_name)\n",
    "\n",
    "i = 5\n",
    "model_name = 'ps2_pdr' + str(i) \n",
    "\n",
    "x = t_ovr[i]['AV(point)'].data   \n",
    "frac_stackplot(t_heat_frac[i],x,'$A_V$','Heating: ' + model_name)\n",
    "\n",
    "i = 6\n",
    "model_name = 'ps2_pdr' + str(i) \n",
    "\n",
    "x = t_ovr[i]['AV(point)'].data   \n",
    "frac_stackplot(t_heat_frac[i],x,'$A_V$','Heating: ' + model_name)"
   ]
  },
  {
   "cell_type": "markdown",
   "metadata": {},
   "source": [
    "At a low cosmic ray density, naturally the heating due to cosmic rays becomes negligible. There is just grain photoelectric effect at low A$_v$ and and grain collisions at high A$_v$. \n",
    "\n",
    "At high cosmic ray density, about 70 percent of the heating is from cosmic rays at A$_v$ > 3. The grain photoelectric effect always dominates in the inner region, despite the cosmic ray density."
   ]
  },
  {
   "cell_type": "code",
   "execution_count": null,
   "metadata": {},
   "outputs": [],
   "source": [
    "i_values = [0, 5, 6]\n",
    "model_names = ['ps2_pdr' + str(i) for i in i_values]\n",
    "\n",
    "pltspecies=['H','H+','H-','H2','H3+','He+','C','C+','O','O+','CO','OH','H2O']\n",
    "nspecies=len(pltspecies)\n",
    "\n",
    "cm = plt.get_cmap('gist_rainbow')\n",
    "colors=cm(np.arange(nspecies)/nspecies)\n",
    "\n",
    "plt.figure(figsize=(18,4))\n",
    "\n",
    "for idx, i in enumerate(i_values, start=1):\n",
    "    plt.subplot(1, 3, idx)\n",
    "    for species,color in zip(pltspecies,colors):\n",
    "        plt.plot(t_mol[i]['AV(point)'],t_mol[i][species]/t_ovr[i]['hden'],label=species,color=color)\n",
    "    plt.legend()\n",
    "    plt.yscale(\"log\")\n",
    "    plt.xlabel(\"$A_V$\")\n",
    "    plt.ylabel(\"n(species)/n(H)\")\n",
    "    plt.title(\"Fractional species/ion abundance: \" + model_names[idx-1])\n",
    "    plt.ylim((1e-11,2))\n",
    "\n",
    "plt.tight_layout()\n",
    "plt.show()"
   ]
  },
  {
   "cell_type": "markdown",
   "metadata": {},
   "source": [
    "An increase in cosmic ray density does not change the A$_v$ value at which H$_2$ occurs. In addition, beyond the fiducial model density, there seems to be no change in the A$_v$ value at which CO, OH, and H$_2$O exist. If the cosmic ray density is large enough, then it seems as though H- persists across the entire region. In addition, at such a large cosmic ray density, the fraction of H remains quite high, resulting in less H$_2$. There is also more OH and H$_2$O across a larger range of A$_v$, but less CO at large values of A$_v$."
   ]
  },
  {
   "cell_type": "code",
   "execution_count": null,
   "metadata": {},
   "outputs": [],
   "source": [
    "i_values = [1, 5, 6]\n",
    "model_names = ['ps2_pdr' + str(i) for i in i_values]\n",
    "\n",
    "plt.figure(figsize=(14, 10))\n",
    "\n",
    "for idx, i in enumerate(i_values, start=1):\n",
    "    plt.subplot(3, 2, idx*2-1)\n",
    "    plt.plot(t_ovr[i]['AV(point)'], t_ovr[i]['Te'])\n",
    "    plt.yscale(\"log\")\n",
    "    plt.ylabel(\"$T_e$\")\n",
    "    plt.xlabel(\"$A_V$\")\n",
    "    plt.title(\"Temperature vs. A$_V$: \" + model_names[idx-1])\n",
    "\n",
    "    plt.subplot(3, 2, idx*2)\n",
    "    plt.plot(t_ovr[i]['AV(point)'], t_ovr[i]['eden'] / t_ovr[i]['hden'])\n",
    "    plt.yscale(\"log\")\n",
    "    plt.ylabel(\"$n_e/n_H$\")\n",
    "    plt.xlabel(\"$A_V$\")\n",
    "    plt.title(\"Fractional electron density vs. A$_V$: \" + model_names[idx-1])\n",
    "\n",
    "plt.tight_layout()\n",
    "plt.show()"
   ]
  },
  {
   "cell_type": "markdown",
   "metadata": {},
   "source": [
    "The temperature profile and electron density are steepest in the fiducial model, where the comsic ray density is at the intermediate value. The temperature profile and electron density are most gradual for the lowest cosmic ray density, similar to the above examples of the lowest hydrogen density and largest dust-to-metal ratio. "
   ]
  },
  {
   "cell_type": "markdown",
   "metadata": {},
   "source": [
    "## __Extra Plotting__:"
   ]
  },
  {
   "cell_type": "markdown",
   "metadata": {},
   "source": [
    "## Plot Te, ne vs. Av"
   ]
  },
  {
   "cell_type": "code",
   "execution_count": null,
   "metadata": {},
   "outputs": [],
   "source": [
    "plt.figure(figsize=(9,6))\n",
    "plt.plot(t_ovr['AV(point)'],t_ovr['Te'])\n",
    "plt.yscale(\"log\")\n",
    "plt.ylabel(\"$T_e$\")\n",
    "plt.xlabel(\"$A_V$\")\n",
    "plt.title(\"Temperature vs. A$_V$: \"+model_name)\n",
    "plt.show()\n",
    "\n",
    "plt.figure(figsize=(9,6))\n",
    "plt.plot(t_ovr['AV(point)'],t_ovr['eden']/t_ovr['hden'])\n",
    "plt.yscale(\"log\")\n",
    "plt.ylabel(\"$n_e/n_H$\")\n",
    "plt.xlabel(\"$A_V$\")\n",
    "plt.title(\"Fractional electron density vs. A$_V$:\"+model_name)\n",
    "plt.show()\n",
    "\n",
    "\n"
   ]
  },
  {
   "cell_type": "code",
   "execution_count": null,
   "metadata": {},
   "outputs": [],
   "source": [
    "print(t_mol.colnames)"
   ]
  },
  {
   "cell_type": "markdown",
   "metadata": {},
   "source": [
    "## Plot species/ion fractions"
   ]
  },
  {
   "cell_type": "code",
   "execution_count": null,
   "metadata": {},
   "outputs": [],
   "source": [
    "# This is an example of species to plot, you might want to select others from above!\n",
    "pltspecies=['H','H+','H-','H2','H3+','He+','C','C+','O','O+','CO','OH','H2O']\n",
    "nspecies=len(pltspecies)\n",
    "\n",
    "cm = plt.get_cmap('gist_rainbow')\n",
    "colors=cm(np.arange(nspecies)/nspecies)\n",
    "\n",
    "plt.figure(figsize=(9,6)) \n",
    "for species,color in zip(pltspecies,colors):\n",
    "    plt.plot(t_mol['AV(point)'],t_mol[species]/t_ovr['hden'],label=species,color=color)\n",
    "   \n",
    "plt.legend()\n",
    "plt.yscale(\"log\")\n",
    "plt.xlabel(\"$A_V$\")\n",
    "plt.ylabel(\"n(species)/n(H)\")\n",
    "plt.title(\"Fractional species/ion abundance: \"+model_name)\n",
    "#plt.xlim((2,5))\n",
    "plt.ylim((1e-11,2))\n",
    "plt.show()\n",
    "\n"
   ]
  },
  {
   "cell_type": "code",
   "execution_count": null,
   "metadata": {},
   "outputs": [],
   "source": []
  }
 ],
 "metadata": {
  "kernelspec": {
   "display_name": "Python 3 (ipykernel)",
   "language": "python",
   "name": "python3"
  },
  "language_info": {
   "codemirror_mode": {
    "name": "ipython",
    "version": 3
   },
   "file_extension": ".py",
   "mimetype": "text/x-python",
   "name": "python",
   "nbconvert_exporter": "python",
   "pygments_lexer": "ipython3",
   "version": "3.9.12"
  }
 },
 "nbformat": 4,
 "nbformat_minor": 4
}
