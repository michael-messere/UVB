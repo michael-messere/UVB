{
 "cells": [
  {
   "cell_type": "code",
   "execution_count": 2,
   "id": "f7152746-2fc9-4f11-975e-ffc40e1865b7",
   "metadata": {},
   "outputs": [],
   "source": [
    "import numpy as np\n",
    "import scipy\n",
    "from scipy import optimize\n",
    "import matplotlib.pyplot as plt \n",
    "import pandas as pd\n",
    "from scipy.interpolate import interp1d"
   ]
  },
  {
   "cell_type": "code",
   "execution_count": 5,
   "id": "fbfcf177-6fde-4301-bc53-084e6d1819fe",
   "metadata": {},
   "outputs": [],
   "source": [
    "alpha_value_all = np.loadtxt('Rs_6_alpha.txt')\n",
    "constant_value_all = np.loadtxt('Rs_6_constant.txt')"
   ]
  },
  {
   "cell_type": "code",
   "execution_count": null,
   "id": "47d0fb2f-10b9-4a60-8466-b4fbc47544e6",
   "metadata": {},
   "outputs": [],
   "source": [
    "n0_all = ['05','1','15','2','25','3','35','4','45','5']\n",
    "\n",
    "for j in range(len(n0_all)):\n",
    "\n",
    "    path = 'onesided_Rs_6_nH' + n0_all[j]\n",
    "    \n",
    "    alpha_value = alpha_value_all[j]\n",
    "    constant_value = constant_value_all[j]\n",
    "    \n",
    "    for i, zheight in enumerate(np.arange(0,4250,250)):\n",
    "\n",
    "        # Specify the original folder path\n",
    "        original_folder_path = 'path/disk_z'  # Replace with the path to your folder containing the .in file\n",
    "\n",
    "        # Specify the name of the copied folder\n",
    "        copied_folder_name = '../disk_z' + '_' + str(zheight)\n",
    "\n",
    "        # Specify the file name of the .in file within the folder\n",
    "        file_name = 'test.in'\n",
    "\n",
    "        # Construct the path to the .in file within the original folder\n",
    "        original_file_path = os.path.join(original_folder_path, file_name)\n",
    "\n",
    "        # Construct the path to the copied folder\n",
    "        copied_folder_path = os.path.join(original_folder_path, copied_folder_name)\n",
    "\n",
    "        # Create a copy of the entire folder\n",
    "        shutil.copytree(original_folder_path, copied_folder_path)\n",
    "\n",
    "        # Specify the value to be replaced\n",
    "        old_value = '450'\n",
    "        new_value = str(alpha_value[i])\n",
    "        old_value2 = '22'\n",
    "        new_value2 = str(constant_value[i])\n",
    "\n",
    "        # Construct the path to the .in file within the copied folder\n",
    "        copied_file_path = os.path.join(copied_folder_path, file_name)\n",
    "\n",
    "        # Open the .in file in read mode\n",
    "        with open(copied_file_path, 'r') as file:\n",
    "            content = file.read()\n",
    "\n",
    "        # Replace the old value with the new value\n",
    "        modified_content = content.replace(old_value, new_value)\n",
    "\n",
    "        modified_content2 = modified_content.replace(old_value2, new_value2)\n",
    "\n",
    "        # Open the .in file in write mode to save the modified content\n",
    "        with open(copied_file_path, 'w') as file:\n",
    "            file.write(modified_content2)\n",
    "\n",
    "        #print(f\"Value '{old_value}' replaced with '{new_value}' in '{file_name}' within the copied folder '{copied_folder_name}'.\")"
   ]
  }
 ],
 "metadata": {
  "kernelspec": {
   "display_name": "Python 3 (ipykernel)",
   "language": "python",
   "name": "python3"
  },
  "language_info": {
   "codemirror_mode": {
    "name": "ipython",
    "version": 3
   },
   "file_extension": ".py",
   "mimetype": "text/x-python",
   "name": "python",
   "nbconvert_exporter": "python",
   "pygments_lexer": "ipython3",
   "version": "3.9.12"
  }
 },
 "nbformat": 4,
 "nbformat_minor": 5
}
