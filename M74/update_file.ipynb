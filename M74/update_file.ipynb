{
 "cells": [
  {
   "cell_type": "code",
   "execution_count": 3,
   "id": "f7152746-2fc9-4f11-975e-ffc40e1865b7",
   "metadata": {},
   "outputs": [],
   "source": [
    "import numpy as np\n",
    "import scipy\n",
    "from scipy import optimize\n",
    "import matplotlib.pyplot as plt \n",
    "import pandas as pd\n",
    "from scipy.interpolate import interp1d\n",
    "import os\n",
    "import shutil"
   ]
  },
  {
   "cell_type": "code",
   "execution_count": 5,
   "id": "fbfcf177-6fde-4301-bc53-084e6d1819fe",
   "metadata": {},
   "outputs": [],
   "source": [
    "alpha_value_all = np.loadtxt('Rs_6_alpha.txt')\n",
    "constant_value_all = np.loadtxt('Rs_6_constant.txt')"
   ]
  },
  {
   "cell_type": "code",
   "execution_count": 17,
   "id": "262a136e-f741-41d7-876b-708e38e4d536",
   "metadata": {},
   "outputs": [
    {
     "name": "stdout",
     "output_type": "stream",
     "text": [
      "/Users/messeremichael/Documents/GradSchool/ISM/Final Project/M74\n"
     ]
    }
   ],
   "source": [
    "cd M74"
   ]
  },
  {
   "cell_type": "markdown",
   "id": "08784d8d-9858-4e25-9ddb-871d024e130a",
   "metadata": {},
   "source": [
    "## __Scale Length = 6:__"
   ]
  },
  {
   "cell_type": "code",
   "execution_count": 19,
   "id": "47d0fb2f-10b9-4a60-8466-b4fbc47544e6",
   "metadata": {},
   "outputs": [],
   "source": [
    "n0_all = ['05','1','15','2','25','3','35','4','45','5']\n",
    "\n",
    "for j in range(len(n0_all)):\n",
    "\n",
    "    path = 'onesided_Rs_6_nH_' + n0_all[j]\n",
    "    \n",
    "    alpha_value = alpha_value_all[j]\n",
    "    constant_value = constant_value_all[j]\n",
    "    \n",
    "    for i, zheight in enumerate(np.arange(0,4250,250)):\n",
    "\n",
    "        # Specify the original folder path\n",
    "        original_folder_path = path + '/disk_z'  # Replace with the path to your folder containing the .in file\n",
    "\n",
    "        # Specify the name of the copied folder\n",
    "        copied_folder_name = '../disk_z' + '_' + str(zheight)\n",
    "\n",
    "        # Specify the file name of the .in file within the folder\n",
    "        file_name = 'test.in'\n",
    "\n",
    "        # Construct the path to the .in file within the original folder\n",
    "        original_file_path = os.path.join(original_folder_path, file_name)\n",
    "\n",
    "        # Construct the path to the copied folder\n",
    "        copied_folder_path = os.path.join(original_folder_path, copied_folder_name)\n",
    "\n",
    "        # Create a copy of the entire folder\n",
    "        shutil.copytree(original_folder_path, copied_folder_path)\n",
    "\n",
    "        # Specify the value to be replaced\n",
    "        old_value = '450'\n",
    "        new_value = str(alpha_value[i])\n",
    "        old_value2 = '22'\n",
    "        new_value2 = str(constant_value[i])\n",
    "\n",
    "        # Construct the path to the .in file within the copied folder\n",
    "        copied_file_path = os.path.join(copied_folder_path, file_name)\n",
    "\n",
    "        # Open the .in file in read mode\n",
    "        with open(copied_file_path, 'r') as file:\n",
    "            content = file.read()\n",
    "\n",
    "        # Replace the old value with the new value\n",
    "        modified_content = content.replace(old_value, new_value)\n",
    "\n",
    "        modified_content2 = modified_content.replace(old_value2, new_value2)\n",
    "\n",
    "        # Open the .in file in write mode to save the modified content\n",
    "        with open(copied_file_path, 'w') as file:\n",
    "            file.write(modified_content2)\n",
    "\n",
    "        #print(f\"Value '{old_value}' replaced with '{new_value}' in '{file_name}' within the copied folder '{copied_folder_name}'.\")"
   ]
  },
  {
   "cell_type": "markdown",
   "id": "0bbdbb36-ae60-4f62-aa9b-60235e33c476",
   "metadata": {},
   "source": [
    "## __Scale Length = 10:__"
   ]
  },
  {
   "cell_type": "code",
   "execution_count": 26,
   "id": "73022a02-2f92-4d80-ac77-6dcaa9012d7b",
   "metadata": {},
   "outputs": [
    {
     "name": "stdout",
     "output_type": "stream",
     "text": [
      "/Users/messeremichael/Documents/GradSchool/ISM/Final Project\n"
     ]
    }
   ],
   "source": [
    "cd ../"
   ]
  },
  {
   "cell_type": "code",
   "execution_count": 27,
   "id": "2a6ecbd8-96f4-4d7e-8562-153e7215cd81",
   "metadata": {},
   "outputs": [],
   "source": [
    "alpha_value_all = np.loadtxt('Rs_10_alpha.txt')\n",
    "constant_value_all = np.loadtxt('Rs_10_constant.txt')"
   ]
  },
  {
   "cell_type": "code",
   "execution_count": 28,
   "id": "d03ecf8e-9809-4607-a035-c13964095e9e",
   "metadata": {},
   "outputs": [
    {
     "name": "stdout",
     "output_type": "stream",
     "text": [
      "/Users/messeremichael/Documents/GradSchool/ISM/Final Project/M74\n"
     ]
    }
   ],
   "source": [
    "cd M74"
   ]
  },
  {
   "cell_type": "code",
   "execution_count": 29,
   "id": "c504b005-0753-4cf9-b763-4c1d80b9d543",
   "metadata": {},
   "outputs": [],
   "source": [
    "n0_all = ['05','1','15','2','25','3','35','4','45','5']\n",
    "\n",
    "for j in range(len(n0_all)):\n",
    "\n",
    "    path = 'onesided_Rs_10_nH_' + n0_all[j]\n",
    "    \n",
    "    alpha_value = alpha_value_all[j]\n",
    "    constant_value = constant_value_all[j]\n",
    "    \n",
    "    for i, zheight in enumerate(np.arange(0,4250,250)):\n",
    "\n",
    "        # Specify the original folder path\n",
    "        original_folder_path = path + '/disk_z'  # Replace with the path to your folder containing the .in file\n",
    "\n",
    "        # Specify the name of the copied folder\n",
    "        copied_folder_name = '../disk_z' + '_' + str(zheight)\n",
    "\n",
    "        # Specify the file name of the .in file within the folder\n",
    "        file_name = 'test.in'\n",
    "\n",
    "        # Construct the path to the .in file within the original folder\n",
    "        original_file_path = os.path.join(original_folder_path, file_name)\n",
    "\n",
    "        # Construct the path to the copied folder\n",
    "        copied_folder_path = os.path.join(original_folder_path, copied_folder_name)\n",
    "\n",
    "        # Create a copy of the entire folder\n",
    "        shutil.copytree(original_folder_path, copied_folder_path)\n",
    "\n",
    "        # Specify the value to be replaced\n",
    "        old_value = '450'\n",
    "        new_value = str(alpha_value[i])\n",
    "        old_value2 = '22'\n",
    "        new_value2 = str(constant_value[i])\n",
    "\n",
    "        # Construct the path to the .in file within the copied folder\n",
    "        copied_file_path = os.path.join(copied_folder_path, file_name)\n",
    "\n",
    "        # Open the .in file in read mode\n",
    "        with open(copied_file_path, 'r') as file:\n",
    "            content = file.read()\n",
    "\n",
    "        # Replace the old value with the new value\n",
    "        modified_content = content.replace(old_value, new_value)\n",
    "\n",
    "        modified_content2 = modified_content.replace(old_value2, new_value2)\n",
    "\n",
    "        # Open the .in file in write mode to save the modified content\n",
    "        with open(copied_file_path, 'w') as file:\n",
    "            file.write(modified_content2)\n",
    "\n",
    "        #print(f\"Value '{old_value}' replaced with '{new_value}' in '{file_name}' within the copied folder '{copied_folder_name}'.\")"
   ]
  },
  {
   "cell_type": "markdown",
   "id": "8f3c1f5f-818b-4315-b079-79944a218587",
   "metadata": {},
   "source": [
    "## __Scale Length = 10.0 kpc, low n0:__"
   ]
  },
  {
   "cell_type": "code",
   "execution_count": 2,
   "id": "9a022481-5c80-4f56-825e-8bcf8ec04299",
   "metadata": {},
   "outputs": [
    {
     "name": "stdout",
     "output_type": "stream",
     "text": [
      "/Users/messeremichael/Documents/GradSchool/ISM/Final Project\n"
     ]
    }
   ],
   "source": [
    "cd ../"
   ]
  },
  {
   "cell_type": "code",
   "execution_count": 5,
   "id": "ee742ccd-ae30-409a-8522-572354d8b314",
   "metadata": {},
   "outputs": [],
   "source": [
    "alpha_value_all = np.loadtxt('Rs_10_alpha_low_nH.txt')\n",
    "constant_value_all = np.loadtxt('Rs_10_constant_low_nH.txt')"
   ]
  },
  {
   "cell_type": "code",
   "execution_count": 7,
   "id": "f7c70c54-9f53-4fa2-9cad-35d1e1390d0c",
   "metadata": {},
   "outputs": [
    {
     "name": "stdout",
     "output_type": "stream",
     "text": [
      "[Errno 2] No such file or directory: 'M74'\n",
      "/Users/messeremichael/Documents/GradSchool/ISM/Final Project/M74\n"
     ]
    }
   ],
   "source": [
    "cd M74"
   ]
  },
  {
   "cell_type": "code",
   "execution_count": 8,
   "id": "2a00ace0-942b-44d8-a903-770d1a5bf70a",
   "metadata": {},
   "outputs": [],
   "source": [
    "n0_all = ['001','005','01']\n",
    "\n",
    "for j in range(len(n0_all)):\n",
    "\n",
    "    path = 'onesided_Rs_10_nH_' + n0_all[j]\n",
    "    \n",
    "    alpha_value = alpha_value_all[j]\n",
    "    constant_value = constant_value_all[j]\n",
    "    \n",
    "    for i, zheight in enumerate(np.arange(0,4250,250)):\n",
    "\n",
    "        # Specify the original folder path\n",
    "        original_folder_path = path + '/disk_z'  # Replace with the path to your folder containing the .in file\n",
    "\n",
    "        # Specify the name of the copied folder\n",
    "        copied_folder_name = '../disk_z' + '_' + str(zheight)\n",
    "\n",
    "        # Specify the file name of the .in file within the folder\n",
    "        file_name = 'test.in'\n",
    "\n",
    "        # Construct the path to the .in file within the original folder\n",
    "        original_file_path = os.path.join(original_folder_path, file_name)\n",
    "\n",
    "        # Construct the path to the copied folder\n",
    "        copied_folder_path = os.path.join(original_folder_path, copied_folder_name)\n",
    "\n",
    "        # Create a copy of the entire folder\n",
    "        shutil.copytree(original_folder_path, copied_folder_path)\n",
    "\n",
    "        # Specify the value to be replaced\n",
    "        old_value = '450'\n",
    "        new_value = str(alpha_value[i])\n",
    "        old_value2 = '22'\n",
    "        new_value2 = str(constant_value[i])\n",
    "\n",
    "        # Construct the path to the .in file within the copied folder\n",
    "        copied_file_path = os.path.join(copied_folder_path, file_name)\n",
    "\n",
    "        # Open the .in file in read mode\n",
    "        with open(copied_file_path, 'r') as file:\n",
    "            content = file.read()\n",
    "\n",
    "        # Replace the old value with the new value\n",
    "        modified_content = content.replace(old_value, new_value)\n",
    "\n",
    "        modified_content2 = modified_content.replace(old_value2, new_value2)\n",
    "\n",
    "        # Open the .in file in write mode to save the modified content\n",
    "        with open(copied_file_path, 'w') as file:\n",
    "            file.write(modified_content2)\n",
    "\n",
    "        #print(f\"Value '{old_value}' replaced with '{new_value}' in '{file_name}' within the copied folder '{copied_folder_name}'.\")"
   ]
  },
  {
   "cell_type": "markdown",
   "id": "b7334131-6374-41e0-b910-5e63a9c652ba",
   "metadata": {},
   "source": [
    "## __Scale Length = 13.0 kpc, low/moderate n0:__"
   ]
  },
  {
   "cell_type": "code",
   "execution_count": 1,
   "id": "2c6ecbde-1084-4037-bd95-29a1bcdc1044",
   "metadata": {},
   "outputs": [
    {
     "name": "stdout",
     "output_type": "stream",
     "text": [
      "/Users/messeremichael/Documents/GradSchool/ISM/Final Project\n"
     ]
    }
   ],
   "source": [
    "cd ../"
   ]
  },
  {
   "cell_type": "code",
   "execution_count": 4,
   "id": "21605567-a578-4e16-bb96-794045f004e8",
   "metadata": {},
   "outputs": [],
   "source": [
    "alpha_value_all = np.loadtxt('Rs_13_alpha_moderate_nH.txt')\n",
    "constant_value_all = np.loadtxt('Rs_13_constant_moderate_nH.txt')"
   ]
  },
  {
   "cell_type": "code",
   "execution_count": 5,
   "id": "de693562-715c-4c4f-a74a-7570bf33a017",
   "metadata": {},
   "outputs": [
    {
     "name": "stdout",
     "output_type": "stream",
     "text": [
      "/Users/messeremichael/Documents/GradSchool/ISM/Final Project/M74\n"
     ]
    }
   ],
   "source": [
    "cd M74"
   ]
  },
  {
   "cell_type": "code",
   "execution_count": 9,
   "id": "d95ed9c5-a6ea-493d-a242-6621199ea2a9",
   "metadata": {},
   "outputs": [],
   "source": [
    "n0_all = ['01','015','025','035']\n",
    "\n",
    "for j in range(len(n0_all)):\n",
    "\n",
    "    path = 'onesided_Rs_13_nH_' + n0_all[j]\n",
    "    \n",
    "    alpha_value = alpha_value_all[j]\n",
    "    constant_value = constant_value_all[j]\n",
    "    \n",
    "    for i, zheight in enumerate(np.arange(0,4250,250)):\n",
    "\n",
    "        # Specify the original folder path\n",
    "        original_folder_path = path + '/disk_z'  # Replace with the path to your folder containing the .in file\n",
    "\n",
    "        # Specify the name of the copied folder\n",
    "        copied_folder_name = '../disk_z' + '_' + str(zheight)\n",
    "\n",
    "        # Specify the file name of the .in file within the folder\n",
    "        file_name = 'test.in'\n",
    "\n",
    "        # Construct the path to the .in file within the original folder\n",
    "        original_file_path = os.path.join(original_folder_path, file_name)\n",
    "\n",
    "        # Construct the path to the copied folder\n",
    "        copied_folder_path = os.path.join(original_folder_path, copied_folder_name)\n",
    "\n",
    "        # Create a copy of the entire folder\n",
    "        shutil.copytree(original_folder_path, copied_folder_path)\n",
    "\n",
    "        # Specify the value to be replaced\n",
    "        old_value = '450'\n",
    "        new_value = str(alpha_value[i])\n",
    "        old_value2 = '22'\n",
    "        new_value2 = str(constant_value[i])\n",
    "\n",
    "        # Construct the path to the .in file within the copied folder\n",
    "        copied_file_path = os.path.join(copied_folder_path, file_name)\n",
    "\n",
    "        # Open the .in file in read mode\n",
    "        with open(copied_file_path, 'r') as file:\n",
    "            content = file.read()\n",
    "\n",
    "        # Replace the old value with the new value\n",
    "        modified_content = content.replace(old_value, new_value)\n",
    "\n",
    "        modified_content2 = modified_content.replace(old_value2, new_value2)\n",
    "\n",
    "        # Open the .in file in write mode to save the modified content\n",
    "        with open(copied_file_path, 'w') as file:\n",
    "            file.write(modified_content2)\n",
    "\n",
    "        #print(f\"Value '{old_value}' replaced with '{new_value}' in '{file_name}' within the copied folder '{copied_folder_name}'.\")"
   ]
  },
  {
   "cell_type": "markdown",
   "id": "c95db721-1889-48b2-8f0f-889b66a0ad5e",
   "metadata": {},
   "source": [
    "## __Scale Length = 10.5 kpc, n0 = 0.1:__"
   ]
  },
  {
   "cell_type": "code",
   "execution_count": 51,
   "id": "01b954c4-8e51-4959-849e-9554fd910ae3",
   "metadata": {},
   "outputs": [
    {
     "name": "stdout",
     "output_type": "stream",
     "text": [
      "/Users/messeremichael/Documents/GradSchool/ISM/Final Project\n"
     ]
    }
   ],
   "source": [
    "cd ../"
   ]
  },
  {
   "cell_type": "code",
   "execution_count": 52,
   "id": "279cf61a-bd80-44ce-8d2f-4743b95d5f58",
   "metadata": {},
   "outputs": [],
   "source": [
    "alpha_value_all = np.loadtxt('Rs_105_alpha_01_nH.txt')\n",
    "constant_value_all = np.loadtxt('Rs_105_constant_01_nH.txt')"
   ]
  },
  {
   "cell_type": "code",
   "execution_count": 53,
   "id": "b6b08459-6380-493a-a249-7137031a4ae2",
   "metadata": {},
   "outputs": [
    {
     "name": "stdout",
     "output_type": "stream",
     "text": [
      "/Users/messeremichael/Documents/GradSchool/ISM/Final Project/M74\n"
     ]
    }
   ],
   "source": [
    "cd M74"
   ]
  },
  {
   "cell_type": "code",
   "execution_count": 54,
   "id": "98647183-f046-4c01-9cbd-e5bb64a06861",
   "metadata": {},
   "outputs": [],
   "source": [
    "n0_all = ['01']\n",
    "\n",
    "for j in range(len(n0_all)):\n",
    "\n",
    "    path = 'onesided_Rs_105_' + n0_all[j]\n",
    "    \n",
    "    alpha_value = [alpha_value_all][j]\n",
    "    constant_value = [constant_value_all][j]\n",
    "    \n",
    "    for i, zheight in enumerate(np.arange(0,4250,250)):\n",
    "\n",
    "        # Specify the original folder path\n",
    "        original_folder_path = path + '/disk_z'  # Replace with the path to your folder containing the .in file\n",
    "\n",
    "        # Specify the name of the copied folder\n",
    "        copied_folder_name = '../disk_z' + '_' + str(zheight)\n",
    "\n",
    "        # Specify the file name of the .in file within the folder\n",
    "        file_name = 'test.in'\n",
    "\n",
    "        # Construct the path to the .in file within the original folder\n",
    "        original_file_path = os.path.join(original_folder_path, file_name)\n",
    "\n",
    "        # Construct the path to the copied folder\n",
    "        copied_folder_path = os.path.join(original_folder_path, copied_folder_name)\n",
    "\n",
    "        # Create a copy of the entire folder\n",
    "        shutil.copytree(original_folder_path, copied_folder_path)\n",
    "\n",
    "        # Specify the value to be replaced\n",
    "        old_value = '450'\n",
    "        new_value = str(alpha_value[i])\n",
    "        old_value2 = '22'\n",
    "        new_value2 = str(constant_value[i])\n",
    "\n",
    "        # Construct the path to the .in file within the copied folder\n",
    "        copied_file_path = os.path.join(copied_folder_path, file_name)\n",
    "\n",
    "        # Open the .in file in read mode\n",
    "        with open(copied_file_path, 'r') as file:\n",
    "            content = file.read()\n",
    "\n",
    "        # Replace the old value with the new value\n",
    "        modified_content = content.replace(old_value, new_value)\n",
    "\n",
    "        modified_content2 = modified_content.replace(old_value2, new_value2)\n",
    "\n",
    "        # Open the .in file in write mode to save the modified content\n",
    "        with open(copied_file_path, 'w') as file:\n",
    "            file.write(modified_content2)\n",
    "\n",
    "        #print(f\"Value '{old_value}' replaced with '{new_value}' in '{file_name}' within the copied folder '{copied_folder_name}'.\")"
   ]
  },
  {
   "cell_type": "markdown",
   "id": "35aba1b1-c090-412a-b9a8-701aae50d1e2",
   "metadata": {},
   "source": [
    "# __Scale Length = 11.0 kpc, n0 = 0.1:__"
   ]
  },
  {
   "cell_type": "code",
   "execution_count": 55,
   "id": "214d6584-594d-4528-9e4d-6df907a5a7e8",
   "metadata": {},
   "outputs": [
    {
     "name": "stdout",
     "output_type": "stream",
     "text": [
      "/Users/messeremichael/Documents/GradSchool/ISM/Final Project\n"
     ]
    }
   ],
   "source": [
    "cd ../"
   ]
  },
  {
   "cell_type": "code",
   "execution_count": 56,
   "id": "e9cfe75c-c8b1-4444-8326-f76b9658f47f",
   "metadata": {},
   "outputs": [],
   "source": [
    "alpha_value_all = np.loadtxt('Rs_11_alpha_01_nH.txt')\n",
    "constant_value_all = np.loadtxt('Rs_11_constant_01_nH.txt')"
   ]
  },
  {
   "cell_type": "code",
   "execution_count": 57,
   "id": "c7d8fa10-a4c0-42d4-adb6-233166ec1eea",
   "metadata": {},
   "outputs": [
    {
     "name": "stdout",
     "output_type": "stream",
     "text": [
      "/Users/messeremichael/Documents/GradSchool/ISM/Final Project/M74\n"
     ]
    }
   ],
   "source": [
    "cd M74"
   ]
  },
  {
   "cell_type": "code",
   "execution_count": 58,
   "id": "77a50892-44f8-4693-8b07-50ed54360377",
   "metadata": {},
   "outputs": [],
   "source": [
    "n0_all = ['01']\n",
    "\n",
    "for j in range(len(n0_all)):\n",
    "\n",
    "    path = 'onesided_Rs_11_' + n0_all[j]\n",
    "    \n",
    "    alpha_value = [alpha_value_all][j]\n",
    "    constant_value = [constant_value_all][j]\n",
    "    \n",
    "    for i, zheight in enumerate(np.arange(0,4250,250)):\n",
    "\n",
    "        # Specify the original folder path\n",
    "        original_folder_path = path + '/disk_z'  # Replace with the path to your folder containing the .in file\n",
    "\n",
    "        # Specify the name of the copied folder\n",
    "        copied_folder_name = '../disk_z' + '_' + str(zheight)\n",
    "\n",
    "        # Specify the file name of the .in file within the folder\n",
    "        file_name = 'test.in'\n",
    "\n",
    "        # Construct the path to the .in file within the original folder\n",
    "        original_file_path = os.path.join(original_folder_path, file_name)\n",
    "\n",
    "        # Construct the path to the copied folder\n",
    "        copied_folder_path = os.path.join(original_folder_path, copied_folder_name)\n",
    "\n",
    "        # Create a copy of the entire folder\n",
    "        shutil.copytree(original_folder_path, copied_folder_path)\n",
    "\n",
    "        # Specify the value to be replaced\n",
    "        old_value = '450'\n",
    "        new_value = str(alpha_value[i])\n",
    "        old_value2 = '22'\n",
    "        new_value2 = str(constant_value[i])\n",
    "\n",
    "        # Construct the path to the .in file within the copied folder\n",
    "        copied_file_path = os.path.join(copied_folder_path, file_name)\n",
    "\n",
    "        # Open the .in file in read mode\n",
    "        with open(copied_file_path, 'r') as file:\n",
    "            content = file.read()\n",
    "\n",
    "        # Replace the old value with the new value\n",
    "        modified_content = content.replace(old_value, new_value)\n",
    "\n",
    "        modified_content2 = modified_content.replace(old_value2, new_value2)\n",
    "\n",
    "        # Open the .in file in write mode to save the modified content\n",
    "        with open(copied_file_path, 'w') as file:\n",
    "            file.write(modified_content2)\n",
    "\n",
    "        #print(f\"Value '{old_value}' replaced with '{new_value}' in '{file_name}' within the copied folder '{copied_folder_name}'.\")"
   ]
  },
  {
   "cell_type": "markdown",
   "id": "3c1dc3d8-7e8a-4ded-b50e-d9542703aae2",
   "metadata": {},
   "source": [
    "## __Scale Length = 11.5 kpc, n0 = 0.1:__"
   ]
  },
  {
   "cell_type": "code",
   "execution_count": 72,
   "id": "0cb7a732-38d9-412f-b808-57daa9d12593",
   "metadata": {},
   "outputs": [
    {
     "name": "stdout",
     "output_type": "stream",
     "text": [
      "/Users/messeremichael/Documents/GradSchool/ISM/Final Project\n"
     ]
    }
   ],
   "source": [
    "cd ../"
   ]
  },
  {
   "cell_type": "code",
   "execution_count": 73,
   "id": "5306cb3f-66ca-4d98-9fe1-cc9eda9ba547",
   "metadata": {},
   "outputs": [],
   "source": [
    "alpha_value_all = np.loadtxt('Rs_115_alpha_01_nH.txt')\n",
    "constant_value_all = np.loadtxt('Rs_115_constant_01_nH.txt')"
   ]
  },
  {
   "cell_type": "code",
   "execution_count": 74,
   "id": "c9f3f526-19a4-462c-a783-72067df428dc",
   "metadata": {},
   "outputs": [
    {
     "name": "stdout",
     "output_type": "stream",
     "text": [
      "/Users/messeremichael/Documents/GradSchool/ISM/Final Project/M74\n"
     ]
    }
   ],
   "source": [
    "cd M74"
   ]
  },
  {
   "cell_type": "code",
   "execution_count": 75,
   "id": "bb94d6af-c629-4301-884b-ecff714702f5",
   "metadata": {},
   "outputs": [],
   "source": [
    "n0_all = ['01']\n",
    "\n",
    "for j in range(len(n0_all)):\n",
    "\n",
    "    path = 'onesided_Rs_115_' + n0_all[j]\n",
    "    \n",
    "    alpha_value = [alpha_value_all][j]\n",
    "    constant_value = [constant_value_all][j]\n",
    "    \n",
    "    for i, zheight in enumerate(np.arange(0,4250,250)):\n",
    "\n",
    "        # Specify the original folder path\n",
    "        original_folder_path = path + '/disk_z'  # Replace with the path to your folder containing the .in file\n",
    "\n",
    "        # Specify the name of the copied folder\n",
    "        copied_folder_name = '../disk_z' + '_' + str(zheight)\n",
    "\n",
    "        # Specify the file name of the .in file within the folder\n",
    "        file_name = 'test.in'\n",
    "\n",
    "        # Construct the path to the .in file within the original folder\n",
    "        original_file_path = os.path.join(original_folder_path, file_name)\n",
    "\n",
    "        # Construct the path to the copied folder\n",
    "        copied_folder_path = os.path.join(original_folder_path, copied_folder_name)\n",
    "\n",
    "        # Create a copy of the entire folder\n",
    "        shutil.copytree(original_folder_path, copied_folder_path)\n",
    "\n",
    "        # Specify the value to be replaced\n",
    "        old_value = '450'\n",
    "        new_value = str(alpha_value[i])\n",
    "        old_value2 = '22'\n",
    "        new_value2 = str(constant_value[i])\n",
    "\n",
    "        # Construct the path to the .in file within the copied folder\n",
    "        copied_file_path = os.path.join(copied_folder_path, file_name)\n",
    "\n",
    "        # Open the .in file in read mode\n",
    "        with open(copied_file_path, 'r') as file:\n",
    "            content = file.read()\n",
    "\n",
    "        # Replace the old value with the new value\n",
    "        modified_content = content.replace(old_value, new_value)\n",
    "\n",
    "        modified_content2 = modified_content.replace(old_value2, new_value2)\n",
    "\n",
    "        # Open the .in file in write mode to save the modified content\n",
    "        with open(copied_file_path, 'w') as file:\n",
    "            file.write(modified_content2)\n",
    "\n",
    "        #print(f\"Value '{old_value}' replaced with '{new_value}' in '{file_name}' within the copied folder '{copied_folder_name}'.\")"
   ]
  },
  {
   "cell_type": "markdown",
   "id": "d4a0d613-1dd9-4848-b38e-d93f0b1e3c35",
   "metadata": {},
   "source": [
    "# __Scale Length = 12.0 kpc, n0 = 0.1:__"
   ]
  },
  {
   "cell_type": "code",
   "execution_count": 76,
   "id": "8689a39d-253a-4f27-80a5-389efd20c726",
   "metadata": {},
   "outputs": [
    {
     "name": "stdout",
     "output_type": "stream",
     "text": [
      "/Users/messeremichael/Documents/GradSchool/ISM/Final Project\n"
     ]
    }
   ],
   "source": [
    "cd ../"
   ]
  },
  {
   "cell_type": "code",
   "execution_count": 77,
   "id": "01e1cdf8-d774-4c4f-89c6-ad7160be927e",
   "metadata": {},
   "outputs": [],
   "source": [
    "alpha_value_all = np.loadtxt('Rs_12_alpha_01_nH.txt')\n",
    "constant_value_all = np.loadtxt('Rs_12_constant_01_nH.txt')"
   ]
  },
  {
   "cell_type": "code",
   "execution_count": 78,
   "id": "b1e89e0a-2f3d-4b1e-b350-098dedf88326",
   "metadata": {},
   "outputs": [
    {
     "name": "stdout",
     "output_type": "stream",
     "text": [
      "/Users/messeremichael/Documents/GradSchool/ISM/Final Project/M74\n"
     ]
    }
   ],
   "source": [
    "cd M74"
   ]
  },
  {
   "cell_type": "code",
   "execution_count": 79,
   "id": "4b41db70-2fe7-4aca-ab6f-346b4bcec96c",
   "metadata": {},
   "outputs": [],
   "source": [
    "n0_all = ['01']\n",
    "\n",
    "for j in range(len(n0_all)):\n",
    "\n",
    "    path = 'onesided_Rs_12_' + n0_all[j]\n",
    "    \n",
    "    alpha_value = [alpha_value_all][j]\n",
    "    constant_value = [constant_value_all][j]\n",
    "    \n",
    "    for i, zheight in enumerate(np.arange(0,4250,250)):\n",
    "\n",
    "        # Specify the original folder path\n",
    "        original_folder_path = path + '/disk_z'  # Replace with the path to your folder containing the .in file\n",
    "\n",
    "        # Specify the name of the copied folder\n",
    "        copied_folder_name = '../disk_z' + '_' + str(zheight)\n",
    "\n",
    "        # Specify the file name of the .in file within the folder\n",
    "        file_name = 'test.in'\n",
    "\n",
    "        # Construct the path to the .in file within the original folder\n",
    "        original_file_path = os.path.join(original_folder_path, file_name)\n",
    "\n",
    "        # Construct the path to the copied folder\n",
    "        copied_folder_path = os.path.join(original_folder_path, copied_folder_name)\n",
    "\n",
    "        # Create a copy of the entire folder\n",
    "        shutil.copytree(original_folder_path, copied_folder_path)\n",
    "\n",
    "        # Specify the value to be replaced\n",
    "        old_value = '450'\n",
    "        new_value = str(alpha_value[i])\n",
    "        old_value2 = '22'\n",
    "        new_value2 = str(constant_value[i])\n",
    "\n",
    "        # Construct the path to the .in file within the copied folder\n",
    "        copied_file_path = os.path.join(copied_folder_path, file_name)\n",
    "\n",
    "        # Open the .in file in read mode\n",
    "        with open(copied_file_path, 'r') as file:\n",
    "            content = file.read()\n",
    "\n",
    "        # Replace the old value with the new value\n",
    "        modified_content = content.replace(old_value, new_value)\n",
    "\n",
    "        modified_content2 = modified_content.replace(old_value2, new_value2)\n",
    "\n",
    "        # Open the .in file in write mode to save the modified content\n",
    "        with open(copied_file_path, 'w') as file:\n",
    "            file.write(modified_content2)\n",
    "\n",
    "        #print(f\"Value '{old_value}' replaced with '{new_value}' in '{file_name}' within the copied folder '{copied_folder_name}'.\")"
   ]
  },
  {
   "cell_type": "markdown",
   "id": "d816144b-b4d4-4e2e-b56b-affeaab45ed4",
   "metadata": {},
   "source": [
    "## __Scale Length = 12.5 kpc, n0 = 0.1:__"
   ]
  },
  {
   "cell_type": "code",
   "execution_count": 80,
   "id": "1bee6f31-b512-47c9-ab5b-4ef9ce68e312",
   "metadata": {},
   "outputs": [
    {
     "name": "stdout",
     "output_type": "stream",
     "text": [
      "/Users/messeremichael/Documents/GradSchool/ISM/Final Project\n"
     ]
    }
   ],
   "source": [
    "cd ../"
   ]
  },
  {
   "cell_type": "code",
   "execution_count": 81,
   "id": "d30b0a16-2a49-427c-971a-364e89b8d82e",
   "metadata": {},
   "outputs": [],
   "source": [
    "alpha_value_all = np.loadtxt('Rs_125_alpha_01_nH.txt')\n",
    "constant_value_all = np.loadtxt('Rs_125_constant_01_nH.txt')"
   ]
  },
  {
   "cell_type": "code",
   "execution_count": 82,
   "id": "34e58010-d5b6-441c-a2dd-078c941e7904",
   "metadata": {},
   "outputs": [
    {
     "name": "stdout",
     "output_type": "stream",
     "text": [
      "/Users/messeremichael/Documents/GradSchool/ISM/Final Project/M74\n"
     ]
    }
   ],
   "source": [
    "cd M74"
   ]
  },
  {
   "cell_type": "code",
   "execution_count": 83,
   "id": "3678f8ba-6513-4b58-b25e-5fdf6eca96a3",
   "metadata": {},
   "outputs": [],
   "source": [
    "n0_all = ['01']\n",
    "\n",
    "for j in range(len(n0_all)):\n",
    "\n",
    "    path = 'onesided_Rs_125_' + n0_all[j]\n",
    "    \n",
    "    alpha_value = [alpha_value_all][j]\n",
    "    constant_value = [constant_value_all][j]\n",
    "    \n",
    "    for i, zheight in enumerate(np.arange(0,4250,250)):\n",
    "\n",
    "        # Specify the original folder path\n",
    "        original_folder_path = path + '/disk_z'  # Replace with the path to your folder containing the .in file\n",
    "\n",
    "        # Specify the name of the copied folder\n",
    "        copied_folder_name = '../disk_z' + '_' + str(zheight)\n",
    "\n",
    "        # Specify the file name of the .in file within the folder\n",
    "        file_name = 'test.in'\n",
    "\n",
    "        # Construct the path to the .in file within the original folder\n",
    "        original_file_path = os.path.join(original_folder_path, file_name)\n",
    "\n",
    "        # Construct the path to the copied folder\n",
    "        copied_folder_path = os.path.join(original_folder_path, copied_folder_name)\n",
    "\n",
    "        # Create a copy of the entire folder\n",
    "        shutil.copytree(original_folder_path, copied_folder_path)\n",
    "\n",
    "        # Specify the value to be replaced\n",
    "        old_value = '450'\n",
    "        new_value = str(alpha_value[i])\n",
    "        old_value2 = '22'\n",
    "        new_value2 = str(constant_value[i])\n",
    "\n",
    "        # Construct the path to the .in file within the copied folder\n",
    "        copied_file_path = os.path.join(copied_folder_path, file_name)\n",
    "\n",
    "        # Open the .in file in read mode\n",
    "        with open(copied_file_path, 'r') as file:\n",
    "            content = file.read()\n",
    "\n",
    "        # Replace the old value with the new value\n",
    "        modified_content = content.replace(old_value, new_value)\n",
    "\n",
    "        modified_content2 = modified_content.replace(old_value2, new_value2)\n",
    "\n",
    "        # Open the .in file in write mode to save the modified content\n",
    "        with open(copied_file_path, 'w') as file:\n",
    "            file.write(modified_content2)\n",
    "\n",
    "        #print(f\"Value '{old_value}' replaced with '{new_value}' in '{file_name}' within the copied folder '{copied_folder_name}'.\")"
   ]
  },
  {
   "cell_type": "code",
   "execution_count": null,
   "id": "5f6f2010-4788-4dee-bf69-fc9b0687a642",
   "metadata": {},
   "outputs": [],
   "source": []
  },
  {
   "cell_type": "code",
   "execution_count": 92,
   "id": "65a73dfa-5876-4aa9-a2f5-0470a2064fc4",
   "metadata": {},
   "outputs": [
    {
     "name": "stdout",
     "output_type": "stream",
     "text": [
      "/Users/messeremichael/Documents/GradSchool/ISM/Final Project\n"
     ]
    }
   ],
   "source": [
    "cd ../"
   ]
  },
  {
   "cell_type": "code",
   "execution_count": 93,
   "id": "5ac8c8cf-4872-4d96-a334-bea4ba4183eb",
   "metadata": {},
   "outputs": [],
   "source": [
    "alpha_value_all = np.loadtxt('Rs_125_alpha_01_nH.txt')\n",
    "constant_value_all = np.loadtxt('Rs_125_constant_01_nH.txt')"
   ]
  },
  {
   "cell_type": "code",
   "execution_count": 94,
   "id": "1301ef1b-d0e1-404b-9686-6ebec679a5e8",
   "metadata": {},
   "outputs": [
    {
     "name": "stdout",
     "output_type": "stream",
     "text": [
      "/Users/messeremichael/Documents/GradSchool/ISM/Final Project/M74\n"
     ]
    }
   ],
   "source": [
    "cd M74"
   ]
  },
  {
   "cell_type": "code",
   "execution_count": 95,
   "id": "d5f62608-fd47-4dad-93b2-8c3d844ab368",
   "metadata": {},
   "outputs": [],
   "source": [
    "n0_all = ['01']\n",
    "\n",
    "for j in range(len(n0_all)):\n",
    "\n",
    "    path = 'onesided_Rs_125_' + n0_all[j] + '_f01'\n",
    "    \n",
    "    alpha_value = [alpha_value_all][j]\n",
    "    constant_value = [constant_value_all][j]\n",
    "    \n",
    "    for i, zheight in enumerate(np.arange(0,4250,250)):\n",
    "\n",
    "        # Specify the original folder path\n",
    "        original_folder_path = path + '/disk_z'  # Replace with the path to your folder containing the .in file\n",
    "\n",
    "        # Specify the name of the copied folder\n",
    "        copied_folder_name = '../disk_z' + '_' + str(zheight)\n",
    "\n",
    "        # Specify the file name of the .in file within the folder\n",
    "        file_name = 'test.in'\n",
    "\n",
    "        # Construct the path to the .in file within the original folder\n",
    "        original_file_path = os.path.join(original_folder_path, file_name)\n",
    "\n",
    "        # Construct the path to the copied folder\n",
    "        copied_folder_path = os.path.join(original_folder_path, copied_folder_name)\n",
    "\n",
    "        # Create a copy of the entire folder\n",
    "        shutil.copytree(original_folder_path, copied_folder_path)\n",
    "\n",
    "        # Specify the value to be replaced\n",
    "        old_value = '450'\n",
    "        new_value = str(alpha_value[i])\n",
    "        old_value2 = '22'\n",
    "        new_value2 = str(constant_value[i])\n",
    "\n",
    "        # Construct the path to the .in file within the copied folder\n",
    "        copied_file_path = os.path.join(copied_folder_path, file_name)\n",
    "\n",
    "        # Open the .in file in read mode\n",
    "        with open(copied_file_path, 'r') as file:\n",
    "            content = file.read()\n",
    "\n",
    "        # Replace the old value with the new value\n",
    "        modified_content = content.replace(old_value, new_value)\n",
    "\n",
    "        modified_content2 = modified_content.replace(old_value2, new_value2)\n",
    "\n",
    "        # Open the .in file in write mode to save the modified content\n",
    "        with open(copied_file_path, 'w') as file:\n",
    "            file.write(modified_content2)\n",
    "\n",
    "        #print(f\"Value '{old_value}' replaced with '{new_value}' in '{file_name}' within the copied folder '{copied_folder_name}'.\")"
   ]
  },
  {
   "cell_type": "code",
   "execution_count": null,
   "id": "95ad4754-8e23-4de4-bd18-d7758091f42d",
   "metadata": {},
   "outputs": [],
   "source": []
  },
  {
   "cell_type": "code",
   "execution_count": 96,
   "id": "05cae80c-442d-4e8b-8ac9-b95719923dae",
   "metadata": {},
   "outputs": [
    {
     "name": "stdout",
     "output_type": "stream",
     "text": [
      "/Users/messeremichael/Documents/GradSchool/ISM/Final Project\n"
     ]
    }
   ],
   "source": [
    "cd ../"
   ]
  },
  {
   "cell_type": "code",
   "execution_count": 97,
   "id": "f4c18699-5284-46e3-a81b-42aabc8ba173",
   "metadata": {},
   "outputs": [],
   "source": [
    "alpha_value_all = np.loadtxt('Rs_125_alpha_01_nH.txt')\n",
    "constant_value_all = np.loadtxt('Rs_125_constant_01_nH.txt')"
   ]
  },
  {
   "cell_type": "code",
   "execution_count": 98,
   "id": "3ff3c72f-993e-45b5-9e34-c93b50828f65",
   "metadata": {},
   "outputs": [
    {
     "name": "stdout",
     "output_type": "stream",
     "text": [
      "/Users/messeremichael/Documents/GradSchool/ISM/Final Project/M74\n"
     ]
    }
   ],
   "source": [
    "cd M74"
   ]
  },
  {
   "cell_type": "code",
   "execution_count": 100,
   "id": "206a076d-9bc0-4270-ab24-db8dca403f83",
   "metadata": {},
   "outputs": [],
   "source": [
    "n0_all = ['01']\n",
    "\n",
    "for j in range(len(n0_all)):\n",
    "\n",
    "    path = 'onesided_Rs_125_' + n0_all[j] + '_f001'\n",
    "    \n",
    "    alpha_value = [alpha_value_all][j]\n",
    "    constant_value = [constant_value_all][j]\n",
    "    \n",
    "    for i, zheight in enumerate(np.arange(0,4250,250)):\n",
    "\n",
    "        # Specify the original folder path\n",
    "        original_folder_path = path + '/disk_z'  # Replace with the path to your folder containing the .in file\n",
    "\n",
    "        # Specify the name of the copied folder\n",
    "        copied_folder_name = '../disk_z' + '_' + str(zheight)\n",
    "\n",
    "        # Specify the file name of the .in file within the folder\n",
    "        file_name = 'test.in'\n",
    "\n",
    "        # Construct the path to the .in file within the original folder\n",
    "        original_file_path = os.path.join(original_folder_path, file_name)\n",
    "\n",
    "        # Construct the path to the copied folder\n",
    "        copied_folder_path = os.path.join(original_folder_path, copied_folder_name)\n",
    "\n",
    "        # Create a copy of the entire folder\n",
    "        shutil.copytree(original_folder_path, copied_folder_path)\n",
    "\n",
    "        # Specify the value to be replaced\n",
    "        old_value = '450'\n",
    "        new_value = str(alpha_value[i])\n",
    "        old_value2 = '22'\n",
    "        new_value2 = str(constant_value[i])\n",
    "\n",
    "        # Construct the path to the .in file within the copied folder\n",
    "        copied_file_path = os.path.join(copied_folder_path, file_name)\n",
    "\n",
    "        # Open the .in file in read mode\n",
    "        with open(copied_file_path, 'r') as file:\n",
    "            content = file.read()\n",
    "\n",
    "        # Replace the old value with the new value\n",
    "        modified_content = content.replace(old_value, new_value)\n",
    "\n",
    "        modified_content2 = modified_content.replace(old_value2, new_value2)\n",
    "\n",
    "        # Open the .in file in write mode to save the modified content\n",
    "        with open(copied_file_path, 'w') as file:\n",
    "            file.write(modified_content2)\n",
    "\n",
    "        #print(f\"Value '{old_value}' replaced with '{new_value}' in '{file_name}' within the copied folder '{copied_folder_name}'.\")"
   ]
  },
  {
   "cell_type": "code",
   "execution_count": null,
   "id": "20399d9b-c76d-4a74-a3ef-b8e51c2b498a",
   "metadata": {},
   "outputs": [],
   "source": []
  },
  {
   "cell_type": "code",
   "execution_count": null,
   "id": "29e38163-4a62-44e8-95b7-114ea9cf8891",
   "metadata": {},
   "outputs": [],
   "source": []
  },
  {
   "cell_type": "code",
   "execution_count": null,
   "id": "5afd6a9b-7f46-4614-bf8c-be540a18b917",
   "metadata": {},
   "outputs": [],
   "source": []
  }
 ],
 "metadata": {
  "kernelspec": {
   "display_name": "Python 3 (ipykernel)",
   "language": "python",
   "name": "python3"
  },
  "language_info": {
   "codemirror_mode": {
    "name": "ipython",
    "version": 3
   },
   "file_extension": ".py",
   "mimetype": "text/x-python",
   "name": "python",
   "nbconvert_exporter": "python",
   "pygments_lexer": "ipython3",
   "version": "3.9.12"
  }
 },
 "nbformat": 4,
 "nbformat_minor": 5
}
